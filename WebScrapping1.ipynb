{
  "nbformat": 4,
  "nbformat_minor": 0,
  "metadata": {
    "colab": {
      "provenance": [],
      "authorship_tag": "ABX9TyPq/ecOnJC3AnNrUFJsmHbU",
      "include_colab_link": true
    },
    "kernelspec": {
      "name": "python3",
      "display_name": "Python 3"
    },
    "language_info": {
      "name": "python"
    }
  },
  "cells": [
    {
      "cell_type": "markdown",
      "metadata": {
        "id": "view-in-github",
        "colab_type": "text"
      },
      "source": [
        "<a href=\"https://colab.research.google.com/github/Saikat-too/Web_Scraping/blob/main/WebScrapping1.ipynb\" target=\"_parent\"><img src=\"https://colab.research.google.com/assets/colab-badge.svg\" alt=\"Open In Colab\"/></a>"
      ]
    },
    {
      "cell_type": "code",
      "execution_count": 1,
      "metadata": {
        "id": "SXWVH7uuwJQ_"
      },
      "outputs": [],
      "source": [
        "import requests"
      ]
    },
    {
      "cell_type": "code",
      "source": [
        "response = requests.get('https://bpy.wikipedia.org/wiki/%E0%A6%AC%E0%A6%BF%E0%A6%B7%E0%A7%8D%E0%A6%A3%E0%A7%81%E0%A6%AA%E0%A7%8D%E0%A6%B0%E0%A6%BF%E0%A6%AF%E0%A6%BC%E0%A6%BE_%E0%A6%AE%E0%A6%A3%E0%A6%BF%E0%A6%AA%E0%A7%81%E0%A6%B0%E0%A7%80')"
      ],
      "metadata": {
        "id": "xDw-Xig3yezj"
      },
      "execution_count": 2,
      "outputs": []
    },
    {
      "cell_type": "code",
      "source": [
        "print(response.status_code)"
      ],
      "metadata": {
        "id": "uc4V_wQBzMD9",
        "outputId": "45707957-4a25-42a3-8c0d-4805df1a7f7d",
        "colab": {
          "base_uri": "https://localhost:8080/"
        }
      },
      "execution_count": 3,
      "outputs": [
        {
          "output_type": "stream",
          "name": "stdout",
          "text": [
            "200\n"
          ]
        }
      ]
    },
    {
      "cell_type": "code",
      "source": [
        "txt = response.text"
      ],
      "metadata": {
        "id": "c5zRhwe-zOW9"
      },
      "execution_count": 4,
      "outputs": []
    },
    {
      "cell_type": "code",
      "source": [
        "from bs4 import BeautifulSoup"
      ],
      "metadata": {
        "id": "zx8dVGnfS7Bn"
      },
      "execution_count": 5,
      "outputs": []
    },
    {
      "cell_type": "code",
      "source": [
        "content = BeautifulSoup(response.content , 'html.parser')"
      ],
      "metadata": {
        "id": "j7BtthalTPUn"
      },
      "execution_count": 6,
      "outputs": []
    },
    {
      "cell_type": "code",
      "source": [
        "title = content.title.text\n"
      ],
      "metadata": {
        "id": "iInjgWEQTgE4"
      },
      "execution_count": 7,
      "outputs": []
    },
    {
      "cell_type": "code",
      "source": [
        "print(title)"
      ],
      "metadata": {
        "colab": {
          "base_uri": "https://localhost:8080/"
        },
        "id": "S9IIlzdPTt9x",
        "outputId": "9594deca-0027-4592-f149-0be89e7b5e23"
      },
      "execution_count": 8,
      "outputs": [
        {
          "output_type": "stream",
          "name": "stdout",
          "text": [
            "বিষ্ণুপ্রিয়া মণিপুরী - উইকিপিডিয়া\n"
          ]
        }
      ]
    },
    {
      "cell_type": "code",
      "source": [
        "body = content.body\n"
      ],
      "metadata": {
        "id": "XvKDoLKITxeo"
      },
      "execution_count": 9,
      "outputs": []
    },
    {
      "cell_type": "code",
      "source": [
        "head = content.head\n"
      ],
      "metadata": {
        "id": "RUdXb1viUbIg"
      },
      "execution_count": 10,
      "outputs": []
    },
    {
      "cell_type": "code",
      "source": [
        "print(title , head)"
      ],
      "metadata": {
        "colab": {
          "base_uri": "https://localhost:8080/"
        },
        "id": "HEsfz8-VUim5",
        "outputId": "e0efb6a7-fae8-4a22-cfea-9c5d26f3b325"
      },
      "execution_count": 11,
      "outputs": [
        {
          "output_type": "stream",
          "name": "stdout",
          "text": [
            "বিষ্ণুপ্রিয়া মণিপুরী - উইকিপিডিয়া <head>\n",
            "<meta charset=\"utf-8\"/>\n",
            "<title>বিষ্ণুপ্রিয়া মণিপুরী - উইকিপিডিয়া</title>\n",
            "<script>(function(){var className=\"client-js vector-feature-language-in-header-enabled vector-feature-language-in-main-page-header-disabled vector-feature-sticky-header-disabled vector-feature-page-tools-pinned-disabled vector-feature-toc-pinned-clientpref-1 vector-feature-main-menu-pinned-disabled vector-feature-limited-width-clientpref-1 vector-feature-limited-width-content-enabled vector-feature-custom-font-size-clientpref-1 vector-feature-appearance-enabled vector-feature-appearance-pinned-clientpref-1 vector-feature-night-mode-disabled skin-theme-clientpref-day vector-toc-available\";var cookie=document.cookie.match(/(?:^|; )bpywikimwclientpreferences=([^;]+)/);if(cookie){cookie[1].split('%2C').forEach(function(pref){className=className.replace(new RegExp('(^| )'+pref.replace(/-clientpref-\\w+$|[^\\w-]+/g,'')+'-clientpref-\\\\w+( |$)'),'$1'+pref+'$2');});}document.documentElement.className=className;}());RLCONF={\"wgBreakFrames\":false,\"wgSeparatorTransformTable\":[\"\",\"\"],\"wgDigitTransformTable\":\n",
            "[\"0\\t1\\t2\\t3\\t4\\t5\\t6\\t7\\t8\\t9\",\"০\\t১\\t২\\t৩\\t৪\\t৫\\t৬\\t৭\\t৮\\t৯\"],\"wgDefaultDateFormat\":\"dmy\",\"wgMonthNames\":[\"\",\"জানুয়ারী\",\"ফেব্রুয়ারী\",\"মার্চ\",\"এপ্রিল\",\"মে\",\"জুন\",\"জুলাই\",\"আগস্ট\",\"সেপ্টেম্বর\",\"অক্টোবর\",\"নভেম্বর\",\"ডিসেম্বর\"],\"wgRequestId\":\"903ac5e0-71e6-4e30-bef0-66cea7cf1555\",\"wgCanonicalNamespace\":\"\",\"wgCanonicalSpecialPageName\":false,\"wgNamespaceNumber\":0,\"wgPageName\":\"বিষ্ণুপ্রিয়া_মণিপুরী\",\"wgTitle\":\"বিষ্ণুপ্রিয়া মণিপুরী\",\"wgCurRevisionId\":894130,\"wgRevisionId\":894130,\"wgArticleId\":1619,\"wgIsArticle\":true,\"wgIsRedirect\":false,\"wgAction\":\"view\",\"wgUserName\":null,\"wgUserGroups\":[\"*\"],\"wgCategories\":[\"ইন্দো-আর্য ঠার\",\"ঠার\",\"বিষ্ণুপ্রিয়া মণিপুরী\"],\n",
            "\"wgPageViewLanguage\":\"bpy\",\"wgPageContentLanguage\":\"bpy\",\"wgPageContentModel\":\"wikitext\",\"wgRelevantPageName\":\"বিষ্ণুপ্রিয়া_মণিপুরী\",\"wgRelevantArticleId\":1619,\"wgIsProbablyEditable\":true,\"wgRelevantPageIsProbablyEditable\":true,\"wgRestrictionEdit\":[],\"wgRestrictionMove\":[],\"wgNoticeProject\":\"wikipedia\",\"wgCiteReferencePreviewsActive\":true,\"wgMediaViewerOnClick\":true,\"wgMediaViewerEnabledByDefault\":true,\"wgPopupsFlags\":4,\"wgVisualEditor\":{\"pageLanguageCode\":\"bpy\",\"pageLanguageDir\":\"ltr\",\"pageVariantFallbacks\":\"bpy\"},\"wgMFDisplayWikibaseDescriptions\":{\"search\":true,\"watchlist\":true,\"tagline\":true,\"nearby\":true},\"wgWMESchemaEditAttemptStepOversample\":false,\"wgWMEPageLength\":40000,\"wgULSCurrentAutonym\":\"বিষ্ণুপ্রিয়া মণিপুরী\",\"wgCentralAuthMobileDomain\":false,\"wgEditSubmitButtonLabelPublish\":true,\"wgULSPosition\":\"interlanguage\",\"wgULSisCompactLinksEnabled\":false,\"wgVector2022LanguageInHeader\":true,\n",
            "\"wgULSisLanguageSelectorEmpty\":false,\"wgWikibaseItemId\":\"Q37059\",\"wgCheckUserClientHintsHeadersJsApi\":[\"architecture\",\"bitness\",\"brands\",\"fullVersionList\",\"mobile\",\"model\",\"platform\",\"platformVersion\"],\"GEHomepageSuggestedEditsEnableTopics\":true,\"wgGETopicsMatchModeEnabled\":false,\"wgGEStructuredTaskRejectionReasonTextInputEnabled\":false,\"wgGELevelingUpEnabledForUser\":false};RLSTATE={\"ext.globalCssJs.user.styles\":\"ready\",\"site.styles\":\"ready\",\"user.styles\":\"ready\",\"ext.globalCssJs.user\":\"ready\",\"user\":\"ready\",\"user.options\":\"loading\",\"skins.vector.search.codex.styles\":\"ready\",\"skins.vector.styles\":\"ready\",\"skins.vector.icons\":\"ready\",\"ext.wikimediamessages.styles\":\"ready\",\"ext.visualEditor.desktopArticleTarget.noscript\":\"ready\",\"ext.uls.interlanguage\":\"ready\",\"wikibase.client.init\":\"ready\",\"ext.wikimediaBadges\":\"ready\"};RLPAGEMODULES=[\"site\",\"mediawiki.page.ready\",\"mediawiki.toc\",\"skins.vector.js\",\"ext.centralNotice.geoIP\",\"ext.centralNotice.startUp\",\"ext.urlShortener.toolbar\",\n",
            "\"ext.centralauth.centralautologin\",\"mmv.head\",\"mmv.bootstrap.autostart\",\"ext.popups\",\"ext.visualEditor.desktopArticleTarget.init\",\"ext.visualEditor.targetLoader\",\"ext.echo.centralauth\",\"ext.eventLogging\",\"ext.wikimediaEvents\",\"ext.navigationTiming\",\"ext.uls.interface\",\"ext.cx.eventlogging.campaigns\",\"ext.cx.uls.quick.actions\",\"wikibase.client.vector-2022\",\"ext.checkUser.clientHints\",\"ext.growthExperiments.SuggestedEditSession\"];</script>\n",
            "<script>(RLQ=window.RLQ||[]).push(function(){mw.loader.impl(function(){return[\"user.options@12s5i\",function($,jQuery,require,module){mw.user.tokens.set({\"patrolToken\":\"+\\\\\",\"watchToken\":\"+\\\\\",\"csrfToken\":\"+\\\\\"});\n",
            "}];});});</script>\n",
            "<link href=\"/w/load.php?lang=bpy&amp;modules=ext.uls.interlanguage%7Cext.visualEditor.desktopArticleTarget.noscript%7Cext.wikimediaBadges%7Cext.wikimediamessages.styles%7Cskins.vector.icons%2Cstyles%7Cskins.vector.search.codex.styles%7Cwikibase.client.init&amp;only=styles&amp;skin=vector-2022\" rel=\"stylesheet\"/>\n",
            "<script async=\"\" src=\"/w/load.php?lang=bpy&amp;modules=startup&amp;only=scripts&amp;raw=1&amp;skin=vector-2022\"></script>\n",
            "<meta content=\"\" name=\"ResourceLoaderDynamicStyles\"/>\n",
            "<link href=\"/w/load.php?lang=bpy&amp;modules=site.styles&amp;only=styles&amp;skin=vector-2022\" rel=\"stylesheet\"/>\n",
            "<meta content=\"MediaWiki 1.43.0-wmf.15\" name=\"generator\"/>\n",
            "<meta content=\"origin\" name=\"referrer\"/>\n",
            "<meta content=\"origin-when-cross-origin\" name=\"referrer\"/>\n",
            "<meta content=\"max-image-preview:standard\" name=\"robots\"/>\n",
            "<meta content=\"telephone=no\" name=\"format-detection\"/>\n",
            "<meta content=\"width=1120\" name=\"viewport\"/>\n",
            "<meta content=\"বিষ্ণুপ্রিয়া মণিপুরী - উইকিপিডিয়া\" property=\"og:title\"/>\n",
            "<meta content=\"website\" property=\"og:type\"/>\n",
            "<link href=\"//upload.wikimedia.org\" rel=\"preconnect\"/>\n",
            "<link href=\"//bpy.m.wikipedia.org/wiki/%E0%A6%AC%E0%A6%BF%E0%A6%B7%E0%A7%8D%E0%A6%A3%E0%A7%81%E0%A6%AA%E0%A7%8D%E0%A6%B0%E0%A6%BF%E0%A6%AF%E0%A6%BC%E0%A6%BE_%E0%A6%AE%E0%A6%A3%E0%A6%BF%E0%A6%AA%E0%A7%81%E0%A6%B0%E0%A7%80\" media=\"only screen and (max-width: 640px)\" rel=\"alternate\"/>\n",
            "<link href=\"/w/index.php?title=%E0%A6%AC%E0%A6%BF%E0%A6%B7%E0%A7%8D%E0%A6%A3%E0%A7%81%E0%A6%AA%E0%A7%8D%E0%A6%B0%E0%A6%BF%E0%A6%AF%E0%A6%BC%E0%A6%BE_%E0%A6%AE%E0%A6%A3%E0%A6%BF%E0%A6%AA%E0%A7%81%E0%A6%B0%E0%A7%80&amp;action=edit\" rel=\"alternate\" title=\"পতানি\" type=\"application/x-wiki\"/>\n",
            "<link href=\"/static/apple-touch/wikipedia.png\" rel=\"apple-touch-icon\"/>\n",
            "<link href=\"/static/favicon/wikipedia.ico\" rel=\"icon\"/>\n",
            "<link href=\"/w/rest.php/v1/search\" rel=\"search\" title=\"উইকিপিডিয়া (bpy)\" type=\"application/opensearchdescription+xml\"/>\n",
            "<link href=\"//bpy.wikipedia.org/w/api.php?action=rsd\" rel=\"EditURI\" type=\"application/rsd+xml\"/>\n",
            "<link href=\"https://bpy.wikipedia.org/wiki/%E0%A6%AC%E0%A6%BF%E0%A6%B7%E0%A7%8D%E0%A6%A3%E0%A7%81%E0%A6%AA%E0%A7%8D%E0%A6%B0%E0%A6%BF%E0%A6%AF%E0%A6%BC%E0%A6%BE_%E0%A6%AE%E0%A6%A3%E0%A6%BF%E0%A6%AA%E0%A7%81%E0%A6%B0%E0%A7%80\" rel=\"canonical\"/>\n",
            "<link href=\"https://creativecommons.org/licenses/by-sa/4.0/deed.bpy\" rel=\"license\"/>\n",
            "<link href=\"/w/index.php?title=%E0%A6%AC%E0%A6%BF%E0%A6%B6%E0%A7%87%E0%A6%B7:%E0%A6%B8%E0%A6%BE%E0%A6%AE%E0%A7%8D%E0%A6%AA%E0%A7%8D%E0%A6%B0%E0%A6%A4%E0%A6%BF%E0%A6%95_%E0%A6%AA%E0%A6%B0%E0%A6%BF%E0%A6%AC%E0%A6%B0%E0%A7%8D%E0%A6%A4%E0%A6%A8%E0%A6%B8%E0%A6%AE%E0%A7%82%E0%A6%B9&amp;feed=atom\" rel=\"alternate\" title=\"উইকিপিডিয়া এটম ফিড\" type=\"application/atom+xml\"/>\n",
            "<link href=\"//meta.wikimedia.org\" rel=\"dns-prefetch\">\n",
            "<link href=\"//login.wikimedia.org\" rel=\"dns-prefetch\"/>\n",
            "</link></head>\n"
          ]
        }
      ]
    },
    {
      "cell_type": "code",
      "source": [
        "all_h1_tags = []"
      ],
      "metadata": {
        "id": "J7tgsK1ZUy4B"
      },
      "execution_count": 12,
      "outputs": []
    },
    {
      "cell_type": "code",
      "source": [
        "for element in content.select('h1'):\n",
        "  all_h1_tags.append(element.text)"
      ],
      "metadata": {
        "id": "kOaibM4NWFVL"
      },
      "execution_count": 13,
      "outputs": []
    },
    {
      "cell_type": "code",
      "source": [
        "for i in range(20):\n",
        "  p_text = content.select('p')[i].text\n",
        "  print(all_h1_tags , p_text)"
      ],
      "metadata": {
        "colab": {
          "base_uri": "https://localhost:8080/"
        },
        "id": "cXQBP0qXWcCc",
        "outputId": "92de8856-00ab-462b-9363-dde8671162eb"
      },
      "execution_count": 14,
      "outputs": [
        {
          "output_type": "stream",
          "name": "stdout",
          "text": [
            "['বিষ্ণুপ্রিয়া মণিপুরী'] বিষ্ণুপ্রিয়া মণিপুরী ঠার এহান ইন্দো-আর্যর ঠার আহান।  বিষ্ণুপ্রিয়া মণিপুরীয়ে নিজর ঠার এহানরে ইমার ঠার বুলতারা।\n",
            "\n",
            "['বিষ্ণুপ্রিয়া মণিপুরী'] বিষ্ণুপ্রিয়া মণিপুরী ঠার এহান ভারতর অসম, ত্রিপুরা, মণিপুর বারো বাংলাদেশ, মায়ানমার বাদেউ আরাকউ দেশ কতহাত অতারতারা, ঠার এহান ইন্দো-আর্যর ঠার বাংলা, অহমীয়া, ওড়িয়া ঠারেত্তউ তঙাল। বিষ্ণুপ্রিয়া মণিপুরী ঠার এহান মুলত ভারতর মণিপুর বারো মণিপুর রাজ্যর হমবুকে আসে লগতাকর চারিয়বারেদে আসে লয়া অতাত হঙসেহান বারো মুঙবারেসেহান। ঠারহানর বারাদে হাবির পয়লাকা বা হাব্বিত্ত পুরানা তথ্য উৎসহান ১৮শ শতাব্দীত ইকরিসি পণ্ডিত নবখেন্দ্র শর্ম্মার \"খুমল পুরান\" বুলতারা লেরিক এহাত পেয়ার। আরতা উল্লেখযোগ্য উৎস পেয়ারতা মেজর মেককুলাকর An account of the valley of Manipore, ই.টি. ডালটনর Descriptive Ethnology of Bengal বারো স্যার জি.এ. গ্রিয়ার্সনর Linguistic Survey of India লেরিক এহানিত মাতেসিতা ঠার এহান ১৯শ শতাব্দীতর আগে মণিপুরে আসিল। ড. গিয়ার্সন গিরকে ঠার এহানরে বিষ্ণুপুরিয়া মণিপুরী বুলিয়া মাতেসে অন্যতায় যেপাগা হুদ্দা বিষ্ণুপ্রিয়া বুলিয়া মাতেসি। মুলত ঠার এহান মণিপুরর খাঙাবুক, হেইরুক, মিয়াং ইম্ফল, বিষ্ণুপুর খুনৌ, নংথৌখং, ঙাইখং বারো থামানপকপি লয়াত্ত চলিয়া আহেরহান।\n",
            "\n",
            "['বিষ্ণুপ্রিয়া মণিপুরী'] ১৮শ বারো ১৯শ শতাব্দীর হমবুকে বিষ্ণুপ্রিয়া মণিপুরীর ডাঙর অংশ আহান  মণিপুর লাম বেলিয়া অসম, ত্রিপুরা, সিলেট বারো কাছাড় লয়া এতাত গিয়া লাম লয়লাগা  মণিপুরর রাজ বেইবুনির কৌলি বারো বার্মার আক্রমন খাংকরে নুৱারিয়া। অহানে স্বভাবতই মণিপুরে থাইলা হুরকা অংশ অহানরতা মৈতৈ ঠারর প্রভাবে ঠারহান জিংতা করিয়া থনা সম্ভব নাইল, অতাইলের গারিয়ৌ ড. গিয়ার্সন গিরকে মারি ১৮৯১ত বিষ্ণুপুর বারো কাদাপারার গাঙ লামাংদং বারো আরাকউ গাঙ কতহাত ঠার এহানর অতাকুরারা মানুকুস উনা ইসে (LSI, Vol -V, Page 419)। ঠার এহান তাপ্প তাপ্প মণিপুরেত্ত উঠে গেলগা মৈতৈর প্রভাবে বারো কাছাড়, বাংলাদেশেউ তলেদে লামে আহের বাংলা ঠারর প্রভাবে। অতা হাবির বাদেউ মণিপুরর জিরিবাম সাব-ডিভিশনে, আসামর কাছাড় জিলাত, ত্রিপুরা বারো বাংলাদেশর নানান লয়াত ঠার এহান অতারতারা বারো জাত এহানর মানুয়ে ঠার এহানরে তেতনেই হন্নাত জিংতা করিয়া থসি।\n",
            "\n",
            "['বিষ্ণুপ্রিয়া মণিপুরী'] ঠার এহান টটারতারা মানু ঔতায় ঠার এহানরে ’ইমার ঠার’ বুলিয়া মাততারা। ঠার এহান আগে হুদ্দা ’মণিপুরী’ বুলিয়া নাঙ পালসিল, পিসে পিসেদে মণিপুরর অন্যান্য জাতি উতারাঙতো তঙাল করতেগা ’বিষ্ণুপ্রিয়া’ ৱাহি এগো ’মণিপুরী’র আগে বহিল বারো ’বিষ্ণুপ্রিয়া মনিপুরী’ বুলিয়া পরিচিত অইল। ভাষাবিদ গিরকলকেইর মতে ’বিষ্ণুপ্রিয়া’ ৱাহি এগো  আহেসেতা ’বিষ্ণুপুর’ এত্ত যেহান আগে মণিপুরর রাজধানীহান আসিল; ’বিষ্ণুপুর’র লগে ’ইয়া’ প্রত্যয় যোগ করিয়া বিষ্ণুপুরীয়া ক্রমে উহাত্ত বিষ্ণুপ্রিয়া। তবে বিষ্ণুপ্রিয়া মণিপুরী বুজন গিরীগিথানীয়ে এপাকাউ তানুরে বভ্রুবাহনর বংশধর বারো আর্যবংশীয় ত্রিয় বুলিয়া পরিচয় দিতারা। বভ্রুবাহন অইলতায় অর্জ্জুন বারো চিত্রাঙ্গদার পুতক। মহাভারতর আদিপর্ব্ব বারো অশ্বমেধপর্ব্বে তৃতীয় পান্ডব অর্জ্জুন বারো মণিপুরর রাজকন্যা চিত্রাঙ্গদার পরিচয়স্থান বুলিয়া উলেখ আসে। তানুর মতে বভ্রুবাহন নিয়াম বিষ্ণুভক্তগ আসিল অহানে বিষ্ণুর ভক্ত অনায় বিষ্ণুপ্রিয়া বুলতারা। \n",
            "\n",
            "['বিষ্ণুপ্রিয়া মণিপুরী'] বিষ্ণুপ্রিয়া মনিপুরী ঠারর উৎসগল ভাষাবিদ ইতিহাসবিদ উতারাঙ দুহান মত প্রচলিত আছে। ঐতিহাসিক শ্রীমহেন্দ্র কুমার সিংহ বারো অন্যান্য লেখক যেমন জগৎমোহন সিংহ, বীরেন্দ্র কুমার সিংহ, মঙ্গলবাবু সিংহ প্রমুখ গিরকগাছিয়ে  ঠার এহানরে মহাভারতে উলেখিত বভ্রুবাহনর লগে যেতা হস্তিনাপুরেত্ব মণিপুরে আহেসিলা তানুর সৃষ্ট প্রাচীন ভাষাহান বুলিয়া বারো এহার  উৎসগ শৌরসেনী প্রাকৃত বুলিয়া মাতে গেসিগা। ঐতিহাসিক রাজমোহন নাথ গিরকে এহানর সমর্থন জানাসে তার The Background of Assamese culture লেরিকে। ড. কালীপ্রসাদ সিংহ গিরকে ঠার এহার বাক্যরীতি, ধ্বনিতত্ব, রূপতত্বর শব্দার্থতত্ব বারো ইতিহাসমুলক ভাষাতত্বলো মুল ফাৎকরা গবেষনা করেসে। গিরকের মতে ভাষা এহান মাগধূ প্রাকৃতত্ত আহেসেহান। \n",
            "\n",
            "['বিষ্ণুপ্রিয়া মণিপুরী'] যেতাউ অক, আধুনিক ভারতীয় হাবি আর্য্যভাষার সাদে ঠার এহানৌ প্রাকৃতর মাধ্যমে হঙসে। লৌকিক সংস্কৃত ভাষার কথ্য ধারা উহানরে প্রাকৃত মাততারা। প্রাকৃত ভাষার শৌরসেনী, মহারাষ্ট্রী, মাগধী, অর্ধমাগধী, পৈশাচী এসাদে ডেঙা কতগ আসে। শৌরসেনীত্ত হিন্দি, রাজস্থানী ইত্যাদি বারো মাগধীত্ত মৈথিলী,বাংলা, অসমীয়া ঠার নিকুলেসেতা। বিষ্ণুপ্রিয়া মনিপুরী ঠারে মাগধী বারো শৌরসেনী দ্বিয়হানির প্রভাব আসে। মাগধীর প্রভাব য়াম আসেতা ঠারহানর রূপতত্ত্বত (Morphology) বারো শৌরসেনীর প্রভাব বপেয়া আসেতা বাক্যরীতি (Syntax) বারো ধ্বনিতত্ত্বত (Phonology)।\n",
            "\n",
            "['বিষ্ণুপ্রিয়া মণিপুরী'] আদ্যিকালে বিষ্ণুপ্রিয়া মনিপুরী ঠাররতা নিজস্ব মেয়েক বা লিপি (দেবনাগরী লিপি) আসিল বুলিয়া কুনো কুনো ইতিহাসবিদে মাততারা । বর্তমান সাহিত্য বারো লেখালেখির কামে মডিফাইড বাংলা মেয়েক ব্যবহার করতারা। মেয়েক উতারতা স্বরবর্ণ, ব্যঞ্জরবর্ণ, যতিচি‎ন্হ বারো সংখ্যা আছে। \n",
            "\n",
            "['বিষ্ণুপ্রিয়া মণিপুরী'] স্বরবর্ণ: অ আ ই ঈ উ ঊ এ ঐ ও ঔ\n",
            "\n",
            "['বিষ্ণুপ্রিয়া মণিপুরী'] স্বরচি‎ন্হ্ণ: া ি ী ু ূ ৃ ে ৈ ো ৌ \n",
            "\n",
            "['বিষ্ণুপ্রিয়া মণিপুরী'] ব্যঞ্জরবর্ণ: ক খ গ ঘ ঙ চ ছ জ ঝ ঞ ট ঠ ড ঢ ণ ত থ দ ধ ন প  ফ ব ম য র ল শ ষ স হ ড় ঢ় য় ৱ ৼ ং ঃ ঁ\n",
            "\n",
            "['বিষ্ণুপ্রিয়া মণিপুরী'] যতিচি‎ন্হ্ণ: , ; : ' \" . ! ? | \n",
            "\n",
            "['বিষ্ণুপ্রিয়া মণিপুরী'] সংখ্যা: ০ ১ ২ ৩ ৪ ৫ ৬ ৭ ৮ ৯\n",
            "\n",
            "['বিষ্ণুপ্রিয়া মণিপুরী'] আজিত্ব প্রায় ২৫০ বছর আগে যুদ্ধজনিত বারো অন্যান্য কারণে বিষ্ণুপ্রিয়া মনিপুরী টটরেকুরা ভাষাগোষ্ঠি মণিপুর বেলেয়া সিলেট, ত্রিপুরা বারো আসামর নানান জাগাত লাম পাতেসিলা। যেতা মণিপুরে থাইলা তানুর অধিকাংশই নিজর ঠার বেলেয়া মৈতৈ ঠার গ্রহন করতে বাধ্য অসিলা। এবাকাউ মণিপুরর  খাঙোবক, হেইরোক,বিষ্ণুপুর,নিংথৌখঙ,ঙাইখঙ,ময়াং য়ুম্ফাম অঞ্চলে প্রায় দুই লাখ বিষ্ণুপ্রিয়া মনিপুরী মানু আসি যেতায় নিজরে বিষ্ণুপ্রিয়া মণিপুরী বুলিয়া পরিচয় দিতারা, কিন্তু মৈতে ঠার ব্যবহার করতারা।\n",
            "\n",
            "['বিষ্ণুপ্রিয়া মণিপুরী'] এবাকা বিষ্ণুপ্রিয়া মনিপুরী টটরেকুরা ভাষাগোষ্ঠি ভারতর আসাম, ত্রিপুরা,মণিপুর, মেঘালয় রাজ্যত, মিয়ানমার বারো বাংলাদেশর ফাম-ফামে আছি। আসামর কাছাড়, করিমগঞ্জ বারো হাইলাকান্দি জেলাত বারো ত্রিপুরার কমলপুর, ধরমনগর বারো কৈলাশহরে নিয়াম বিষ্ণুপ্রিয়া মনিপুরী আসি। বাংলাদেশর মৌলবীবাজার, হবিগঞ্জ, সুনামগঞ্জ বারো সিলেট জিলার বিভিন্ন লয়াত বিষ্ণুপ্রিয়া মণিপুরী মানু থাইতারা। এতাবাদে ময়মনসিংহম, রাঙামটি, চট্টগ্রাম বারো ঢাকার তেজগাও লয়াত বিষ্ণুপ্রিয়া মণিপুরী মানু লাম পাতেসিলা বুলিয়া উল্লেখ পেয়ার।\n",
            "\n",
            "['বিষ্ণুপ্রিয়া মণিপুরী'] কুনো কুনো ভাষাবিদে বিষ্ণুপ্রিয়া মনিপুরী ঠার এহানরে অন্য ঠারর উপঠার বুিলয়া মাতেসি যেহার কুনো ভিত্তি নেই। ড. সুনীতি কুমার চ্যাটার্জ্জীয়ে আমার ঠার এহানরে বাংলার উপভাষাহান বারো ড. বাণীকাšত কাকতী, ড. মহেশ্বর নিয়গ প্রমুখ অসমীয়া পন্ডিতে এহানরে অসমীয়ার উপভাষাহান বুলিয়া মতেসি। হত্তুমে বিষ্ণুপ্রিয়া মনিপুরী ঠার এহান স্বতন্ত্র ঠারহান যেহান সংস্কৃত বারো প্রাচীন মণিপুরর নানান গোত্রর মানুর ঠারেত্ত বিভিন্ন ডেভেলপমেন্টর সাকেই লালয়া হঙসেহান। সংস্কৃতে যেসাদে বচনভেদে বারো লিঙ্গভেদে ক্রিয়াগ বদলার বারো নঞর্থবোধক ক্রিয়ার আগে সংযুক্ত অর উসাদে বিষ্ণুপ্রিয়া মনিপুরী ঠারেও অর, যেতা বাংলা বা অসমীয়াত নার । ড. কালীপ্রসাদ সিংহই ড. সুনীতিকুমার চাটার্জ্জীর বিষ্ণুপ্রিয়া মনিপুরী এহান বাংলার উপভাষাহান – এরে তত্ত্ব এহান ভাষাতাত্তিক যুক্তিলো খন্ডাসে। এপেই বিষ্ণুপ্রিয়া মনিপুরী ঠারর নিজস্ব বৈশিষ্ঠ্য কতহান উলেখ করলাঙ, যেতা বাংলাত বা অসমীয়াত নেই:  \n",
            "\n",
            "['বিষ্ণুপ্রিয়া মণিপুরী'] বিষ্ণুপ্রিয়া মণিপুরী ঠারর সাহিত্যর ভান্ডারে লোক সাহিত্যর সংখ্যাহান না য়্যাতসে, যেতা পুরানা আমলেত্ত আজি পেয়া মানুর থতানো আজি পেয়া চলিয়া আহের। বিষ্ণুপ্রিয়া মণিপুরীর পুরানা আমলর সাহিত্য অতা লোক-য়্যারী, লোক-এলা, লোক-কবিতা, ছড়া বারো পৌরেইত ডেঙ সালসে। অতার মা (বরন ডাহানির এলা, ১৪৫০-১৬০০ মারি) বারো সরারেলর জীবনগাথাল (মাদই সরারেলর এলা, ১৫০০-১৬০০ মারি) উল্লেখ করানির সাদে। মাতানি থক এলা এতাত তিব্বত-বার্মিজ ঠার জিনার আবকচা ৱাহি তিলসে। এলা এতাই বিষ্ণুপ্রিয়া মণিপুরীর সাহিত্য বারো ঠারর ইতিহাসহান হারপানিত বারো তামকরানিত জবর পাঙকরের। অতাবুলতেউ এলা এতা গাঙ-ঘরেদে ক্ষেতি-বারির কাম করতারা বেয়াপাই য়্যাম দিতারা। বিষ্ণুপ্রিয়া মণিপুরীর পৌরেই এতাউ সাহিত্যর ডাঙর জাগা আহান কালকরিয়া থুয়াসে।\n",
            "\n",
            "['বিষ্ণুপ্রিয়া মণিপুরী'] বিষ্ণুপ্রিয়া মনিপুরী ঠারর সাহিত্যর কলেবর য়্যাতৈলেউ মানর দিকেত্ত অনেক গজে মাতানি পারিয়ার। বিংশ শতকর তৃতীয় দশকেত্ত বিষ্ণুপ্রিয়া মনিপুরী সাহিত্যর আধুনিক যুগ আরম্ভ অইল। ঔ সময়কার প্রধান চারিগো লেখক অইলাতা লেইখমসেনা সিংহ (নাটক: বভ্রুবাহন, মণিপুর বিজয়), মদনমোহন শর্মা গ্রন্থ:বালিপিন্ড, হরিশ্চন্দ্র, সুবলমিলন, তিলত্তমা, বাসক,সুদমাবিপ্র), আমুসেনা সিংহ (নাটক: অঙ্গদ রায়বার, শক্তিশেল, তরনীসেন বধ,নাগপাশ,তরণীসেন বধ,মহীরাবণ বধ) বারো গোকুলানন্দ গীতিস্বামী (মাতৃমঙ্গল গীতাভিনয় নাটক, সমাজ জাগরনমুলক নানান পদাবলী, এলা, বারো কবিতা)। এগিবাদে রোহিনী রাজকুমার, গোলাপসেনা সিংহ বারো গোষ্ঠবিহারী সিংহর নাঙও উলেখযোগ্য। বিষ্ণুপ্রিয়া মনিপুরী ঠারে পয়লাকা নিকুলেসিল পত্রিকাহান জাগরন (সম্পাদক শ্রী অর্জ্জুন সিংহ), ১৯২৫ সালে। এহার পিসে নিকুলিল শ্রীসমরজিত সিংহ সম্পাদিত মণিপুরী (১৯৩৩) বারো শ্রীফাল্গুনী সিংহ সম্পাদিত মেখলী (১৯৩৭)। এতার পিসে পিসেদে ক্ষত্রিয়জ্যোতি, নুয়াবেলী, বিষ্ণুপ্রিয়া, ফাগু, পাঞ্চধন্য, আর্জ্জুনি, প্রতিশ্র“তি, মলয়া, নুমিউস, ফলাল, নুয়া এলা, গোধুলী, ত্রিপুরা চে, আমার পৌ, খঙচেল, ইমার ঠার, কাকেই, সত্যম, ইথাক, পৌরি, বেলী, লোকতাক, মেঙসেল, পঞ্চশ্রী, আর্জ্জুনি মণিপুরী, কৈফৎ, মিঙাল, চিন্তা, এবাকা, কালর কথা, সরালেল ইত্যাদি পত্রিকা নিকুলিয়া বিষ্ণুপ্রিয়া মনিপুরী সাহিত্যত নুয়া মাত্রা আহান আনেদিল। পত্রিকা এতা আসাম, ত্রিপুরা বারো বাংলাদেশেত্ত নিকুলিল। এপেই মাতানি থক বিষ্ণুপ্রিয়া মণিপুরী সাহিত্যর ইতিহাসে বাংলাদেশর বিষ্ণুপ্রিয়া মণিপুরী সাহিত্যিকে নিয়াম অবদান থুয়া গেসিগা।\n",
            "\n",
            "['বিষ্ণুপ্রিয়া মণিপুরী'] বিশ্বর নানান ভাষার সাহিত্য বিষ্ণুপ্রিয়া মণিপুরী ভাষাত অনুদিত অসে। রুবাইয়াত-ই-ওমর খৈয়াম, সফোকিসর আন্তিগোনে, কালিদাসর মেঘদুতম, ইষোপনিষদ, শ্রীমদভাগবতগীতা, শেক্সপীয়ারর নাটকর অনুবাদ করেসি বিষ্ণুপ্রিয়া মণিপুরী সাহিত্যিকে । কবি ধনঞ্জয় রাজকুমার গিরকে জাপানী হাইকু কবিতার অনুবাদ করেসে। অনুদিত অসে বেরতোল্ড ব্রেশ্ট, বোদলেয়ার, লোরকা, পলএল্যুয়ার, মালার্মে, এজরা পাউন্ড, রিলকের কবিতা। বাংলা, অসমীয়া, হিন্দী এমনকি মৈতৈ সাহিত্যর অনুবাদও ইমার ঠারে আছে। বিষ্ণুপ্রিয়া মণিপুরী ঠারর সাহিত্যও বাংলা, অসমীয়া, ককবরক,হিন্দী, ইংরেজী ইত্যাদি নানান ভাষাত অনুদিত অসে।\n",
            "\n",
            "['বিষ্ণুপ্রিয়া মণিপুরী'] শ্রী মদনমোহন মুখোপাধ্যায়, ব্রজেন্দ্রকুমার সিংহ, ধনঞ্জয় বাজকুমার, সেনারূপ সিংহ, গোপীনাথ সিংহ, চাম্পালাল, অমর সিংহ, মথুরা সিংহ, দিল্স দেবজ্যোতি সিংহ, চন্দ্রকান্ত সিংহ, দিল্স লক্ষীন্দ্র সিংহ, সমরজিৎ সিংহ, সুধন্য সিংহ, রঞ্জিত সিংহ, বিশ্বজিৎ সিংহ, শুভাশিস সিংহ আমার প্রধান কবি। নাটকে অশ্বিনী কুমার সিংহ, গল্পকারর মধ্যে স্মৃতিকুমার সিংহ, বিমল সিংহ বারো অনুকুল সিংহর নাঙ হাবির গজে। আমার প্রধান প্রবন্ধকার অইলাতায় ডঃ কালীপ্রসাদ সিংহ, জগৎমোহন সিংহ, অধ্যাপক বরুন কুমার সিংহ, অধ্যাপক বীরেন্দ্র সিংহ, অধ্যাপক ব্রজেন্দ্র কুমার সিংহ বারো অধ্যাপক রণজিত সিংহ৷\n",
            "\n",
            "['বিষ্ণুপ্রিয়া মণিপুরী'] বিষ্ণুপ্রিয়া মণিপুরী ঠারর সাহিত্যর চর্চ্চা করেকুরা গিরি-গিথানীয়ে নিজর ঠারহানর বারেউ আর ঠারলউ সাহিত্য ইকরতারা অতা দেশর মাথাঙে দেনা ইল।\n",
            "\n"
          ]
        }
      ]
    },
    {
      "cell_type": "markdown",
      "source": [
        "Image"
      ],
      "metadata": {
        "id": "lAg5oe9Jpfwd"
      }
    },
    {
      "cell_type": "code",
      "source": [
        "image_data = []"
      ],
      "metadata": {
        "id": "IVnke5gIWnm8"
      },
      "execution_count": 15,
      "outputs": []
    },
    {
      "cell_type": "code",
      "source": [
        "images = content.select('img')\n"
      ],
      "metadata": {
        "id": "tNQhsvwOWwyU"
      },
      "execution_count": 16,
      "outputs": []
    },
    {
      "cell_type": "code",
      "source": [
        "for image in images:\n",
        "  src = image.get('src')\n",
        "  alt = image.get('alt')\n",
        "  image_data.append({'src':src , 'alt':alt})"
      ],
      "metadata": {
        "id": "EyU3f1YqoYPr"
      },
      "execution_count": 17,
      "outputs": []
    },
    {
      "cell_type": "code",
      "source": [
        "print(image_data)"
      ],
      "metadata": {
        "colab": {
          "base_uri": "https://localhost:8080/"
        },
        "id": "1plWcOlgpMer",
        "outputId": "d006a774-5249-4aa8-e04b-e59968514f5e"
      },
      "execution_count": 18,
      "outputs": [
        {
          "output_type": "stream",
          "name": "stdout",
          "text": [
            "[{'src': '/static/images/icons/wikipedia.png', 'alt': ''}, {'src': '/static/images/mobile/copyright/wikipedia-wordmark-bn.svg', 'alt': 'উইকিপিডিয়া'}, {'src': '/static/images/mobile/copyright/wikipedia-tagline-bpy.svg', 'alt': 'খুলাসা বিশ্বকোষ উইকিপিডিয়াত্ত'}, {'src': '//upload.wikimedia.org/wikipedia/commons/thumb/3/39/Example.of.complex.text.rendering.svg/58px-Example.of.complex.text.rendering.svg.png', 'alt': 'Indic script'}, {'src': 'https://login.wikimedia.org/wiki/Special:CentralAutoLogin/start?type=1x1', 'alt': ''}, {'src': '/static/images/footer/wikimedia-button.svg', 'alt': 'Wikimedia Foundation'}, {'src': '/static/images/footer/poweredby_mediawiki.svg', 'alt': 'Powered by MediaWiki'}]\n"
          ]
        }
      ]
    },
    {
      "cell_type": "markdown",
      "source": [
        "Link extracting"
      ],
      "metadata": {
        "id": "48EnvvMFpjUO"
      }
    },
    {
      "cell_type": "code",
      "source": [
        "all_links = []\n",
        "links = content.select('a')\n",
        "for ahref in links:\n",
        "  text = ahref.text\n",
        "  text = text.strip() if text is not None else ''\n",
        "\n",
        "  href = ahref.get('href')\n",
        "  href = href.strip() if href is not None else ''\n",
        "  all_links.append({'href':href , 'text':text})\n",
        "\n",
        "print(all_links)"
      ],
      "metadata": {
        "colab": {
          "base_uri": "https://localhost:8080/"
        },
        "id": "1A7OO092pNwr",
        "outputId": "5b63e053-73fb-4d88-846a-3e3cc9a9a176"
      },
      "execution_count": 19,
      "outputs": [
        {
          "output_type": "stream",
          "name": "stdout",
          "text": [
            "[{'href': '#bodyContent', 'text': 'বিষয়বস্তুতে চলুন'}, {'href': '/wiki/%E0%A6%AA%E0%A6%AF%E0%A6%BC%E0%A6%B2%E0%A6%BE_%E0%A6%AA%E0%A6%BE%E0%A6%A4%E0%A6%BE', 'text': 'পয়লা পাতা'}, {'href': '/wiki/%E0%A6%89%E0%A6%87%E0%A6%95%E0%A6%BF%E0%A6%AA%E0%A6%BF%E0%A6%A1%E0%A6%BF%E0%A6%AF%E0%A6%BC%E0%A6%BE:%E0%A6%B6%E0%A6%BF%E0%A6%82%E0%A6%B2%E0%A7%81%E0%A6%AA', 'text': 'শিংলুপ'}, {'href': '/wiki/%E0%A6%B9%E0%A6%BE%E0%A6%A6%E0%A6%BF_%E0%A6%8F%E0%A6%B9%E0%A6%BE%E0%A6%A8%E0%A6%B0_%E0%A6%98%E0%A6%9F%E0%A6%A8%E0%A6%BE%E0%A6%B9%E0%A6%BE%E0%A6%A8%E0%A6%BF', 'text': 'হাদি এহানর ঘটনা'}, {'href': '/wiki/%E0%A6%AC%E0%A6%BF%E0%A6%B6%E0%A7%87%E0%A6%B7:%E0%A6%B8%E0%A6%BE%E0%A6%AE%E0%A7%8D%E0%A6%AA%E0%A7%8D%E0%A6%B0%E0%A6%A4%E0%A6%BF%E0%A6%95_%E0%A6%AA%E0%A6%B0%E0%A6%BF%E0%A6%AC%E0%A6%B0%E0%A7%8D%E0%A6%A4%E0%A6%A8%E0%A6%B8%E0%A6%AE%E0%A7%82%E0%A6%B9', 'text': 'হাদিএহান পতাসিতা'}, {'href': '/wiki/%E0%A6%AC%E0%A6%BF%E0%A6%B6%E0%A7%87%E0%A6%B7:%E0%A6%85%E0%A6%9C%E0%A6%BE%E0%A6%A8%E0%A6%BE_%E0%A6%AA%E0%A6%BE%E0%A6%A4%E0%A6%BE', 'text': 'খাংদা পাতা'}, {'href': '/wiki/%E0%A6%89%E0%A6%87%E0%A6%95%E0%A6%BF%E0%A6%AA%E0%A6%BF%E0%A6%A1%E0%A6%BF%E0%A6%AF%E0%A6%BC%E0%A6%BE:%E0%A6%AA%E0%A6%BE%E0%A6%82%E0%A6%B2%E0%A6%BE%E0%A6%95', 'text': 'পাংলাক'}, {'href': '//donate.wikimedia.org/wiki/Special:FundraiserRedirector?utm_source=donate&utm_medium=sidebar&utm_campaign=C13_bpy.wikipedia.org&uselang=bpy', 'text': 'দান দেনা'}, {'href': '/wiki/%E0%A6%AA%E0%A6%AF%E0%A6%BC%E0%A6%B2%E0%A6%BE_%E0%A6%AA%E0%A6%BE%E0%A6%A4%E0%A6%BE', 'text': ''}, {'href': '/wiki/%E0%A6%AC%E0%A6%BF%E0%A6%B6%E0%A7%87%E0%A6%B7:%E0%A6%85%E0%A6%A8%E0%A7%81%E0%A6%B8%E0%A6%A8%E0%A7%8D%E0%A6%A7%E0%A6%BE%E0%A6%A8', 'text': 'বিসারিয়া চা'}, {'href': '/w/index.php?title=%E0%A6%AC%E0%A6%BF%E0%A6%B6%E0%A7%87%E0%A6%B7:%E0%A6%85%E0%A7%8D%E0%A6%AF%E0%A6%BE%E0%A6%95%E0%A6%BE%E0%A6%89%E0%A6%A8%E0%A7%8D%E0%A6%9F_%E0%A6%A4%E0%A7%88%E0%A6%B0%E0%A6%BF&returnto=%E0%A6%AC%E0%A6%BF%E0%A6%B7%E0%A7%8D%E0%A6%A3%E0%A7%81%E0%A6%AA%E0%A7%8D%E0%A6%B0%E0%A6%BF%E0%A6%AF%E0%A6%BC%E0%A6%BE+%E0%A6%AE%E0%A6%A3%E0%A6%BF%E0%A6%AA%E0%A7%81%E0%A6%B0%E0%A7%80', 'text': 'একাউন্ট হঙকর'}, {'href': '/w/index.php?title=%E0%A6%AC%E0%A6%BF%E0%A6%B6%E0%A7%87%E0%A6%B7:%E0%A6%AC%E0%A7%8D%E0%A6%AF%E0%A6%AC%E0%A6%B9%E0%A6%BE%E0%A6%B0%E0%A6%95%E0%A6%BE%E0%A6%B0%E0%A7%80_%E0%A6%AA%E0%A7%8D%E0%A6%B0%E0%A6%AC%E0%A7%87%E0%A6%B6&returnto=%E0%A6%AC%E0%A6%BF%E0%A6%B7%E0%A7%8D%E0%A6%A3%E0%A7%81%E0%A6%AA%E0%A7%8D%E0%A6%B0%E0%A6%BF%E0%A6%AF%E0%A6%BC%E0%A6%BE+%E0%A6%AE%E0%A6%A3%E0%A6%BF%E0%A6%AA%E0%A7%81%E0%A6%B0%E0%A7%80', 'text': 'লগ-ইন'}, {'href': '/w/index.php?title=%E0%A6%AC%E0%A6%BF%E0%A6%B6%E0%A7%87%E0%A6%B7:%E0%A6%85%E0%A7%8D%E0%A6%AF%E0%A6%BE%E0%A6%95%E0%A6%BE%E0%A6%89%E0%A6%A8%E0%A7%8D%E0%A6%9F_%E0%A6%A4%E0%A7%88%E0%A6%B0%E0%A6%BF&returnto=%E0%A6%AC%E0%A6%BF%E0%A6%B7%E0%A7%8D%E0%A6%A3%E0%A7%81%E0%A6%AA%E0%A7%8D%E0%A6%B0%E0%A6%BF%E0%A6%AF%E0%A6%BC%E0%A6%BE+%E0%A6%AE%E0%A6%A3%E0%A6%BF%E0%A6%AA%E0%A7%81%E0%A6%B0%E0%A7%80', 'text': 'একাউন্ট হঙকর'}, {'href': '/w/index.php?title=%E0%A6%AC%E0%A6%BF%E0%A6%B6%E0%A7%87%E0%A6%B7:%E0%A6%AC%E0%A7%8D%E0%A6%AF%E0%A6%AC%E0%A6%B9%E0%A6%BE%E0%A6%B0%E0%A6%95%E0%A6%BE%E0%A6%B0%E0%A7%80_%E0%A6%AA%E0%A7%8D%E0%A6%B0%E0%A6%AC%E0%A7%87%E0%A6%B6&returnto=%E0%A6%AC%E0%A6%BF%E0%A6%B7%E0%A7%8D%E0%A6%A3%E0%A7%81%E0%A6%AA%E0%A7%8D%E0%A6%B0%E0%A6%BF%E0%A6%AF%E0%A6%BC%E0%A6%BE+%E0%A6%AE%E0%A6%A3%E0%A6%BF%E0%A6%AA%E0%A7%81%E0%A6%B0%E0%A7%80', 'text': 'লগ-ইন'}, {'href': '/wiki/%E0%A6%AA%E0%A6%BE%E0%A6%82%E0%A6%B2%E0%A6%BE%E0%A6%95:%E0%A6%AD%E0%A7%82%E0%A6%AE%E0%A6%BF%E0%A6%95%E0%A6%BE', 'text': 'আরও জানুন'}, {'href': '/wiki/%E0%A6%AC%E0%A6%BF%E0%A6%B6%E0%A7%87%E0%A6%B7:%E0%A6%86%E0%A6%AE%E0%A6%BE%E0%A6%B0_%E0%A6%85%E0%A6%AC%E0%A6%A6%E0%A6%BE%E0%A6%A8', 'text': 'অবদানহানি'}, {'href': '/wiki/%E0%A6%AC%E0%A6%BF%E0%A6%B6%E0%A7%87%E0%A6%B7:%E0%A6%86%E0%A6%AE%E0%A6%BE%E0%A6%B0_%E0%A6%86%E0%A6%B2%E0%A6%BE%E0%A6%AA', 'text': 'অচিনা এগর য়্যারির পাতা'}, {'href': '#', 'text': 'সূচনা'}, {'href': '#ইতিহাস_বারো_সালনি', 'text': '১\\nইতিহাস বারো সালনি'}, {'href': '#উৎস_বারো_ডেভেলপমেন্ট', 'text': '২\\nউৎস বারো ডেভেলপমেন্ট'}, {'href': '#ৱাহি', 'text': '৩\\nৱাহি'}, {'href': '#বিষ্ণুপ্রিয়া_মণিপুরী_ঠারর_মেয়েক', 'text': '৪\\nবিষ্ণুপ্রিয়া মণিপুরী ঠারর মেয়েক'}, {'href': '#বিষ্ণুপ্রিয়া_মণিপুরী_ঠার_এহান_টটরতারা_ফাম', 'text': '৫\\nবিষ্ণুপ্রিয়া মণিপুরী ঠার এহান টটরতারা ফাম'}, {'href': '#বিষ্ণুপ্রিয়া_মণিপুরী_ঠার_টটরাকুরা', 'text': '৬\\nবিষ্ণুপ্রিয়া মণিপুরী ঠার টটরাকুরা'}, {'href': '#বিষ্ণুপ্রিয়া_মণিপুরী_ঠার_এহান_বাংলা_বারো_অসমিয়া_ঠারর_উপঠারহান_নাগই', 'text': '৭\\nবিষ্ণুপ্রিয়া মণিপুরী ঠার এহান বাংলা বারো অসমিয়া ঠারর উপঠারহান নাগই'}, {'href': '#আদি_আমলর_সাহিত্য', 'text': '৮\\nআদি আমলর সাহিত্য'}, {'href': '#এবাকার_বিষ্ণুপ্রিয়া_মনিপুরী_সাহিত্য', 'text': '৯\\nএবাকার বিষ্ণুপ্রিয়া মনিপুরী সাহিত্য'}, {'href': '#সাহিত্যিক', 'text': '১০\\nসাহিত্যিক'}, {'href': '#নানান_ঠারল_ইকরতারা_সাহিত্যিক', 'text': '১১\\nনানান ঠারল ইকরতারা সাহিত্যিক'}, {'href': '#ভারত', 'text': '১১.১\\nভারত'}, {'href': '#বাংলাদেশ', 'text': '১১.২\\nবাংলাদেশ'}, {'href': '#আরাকউ_চেইক', 'text': '১২\\nআরাকউ চেইক'}, {'href': '#ওয়েব_মিলাপ', 'text': '১৩\\nওয়েব মিলাপ'}, {'href': '#তথ্যমালা', 'text': '১৪\\nতথ্যমালা'}, {'href': 'https://ar.wikipedia.org/wiki/%D9%84%D8%BA%D8%A9_%D8%A8%D9%8A%D8%B4%D9%86%D9%88%D8%A8%D8%B1%D9%8A%D8%A7_%D9%85%D8%A7%D9%86%D9%8A%D8%A8%D9%88%D8%B1%D9%8A%D8%A9', 'text': 'العربية'}, {'href': 'https://arz.wikipedia.org/wiki/%D9%84%D8%BA%D9%87_%D8%A8%D9%8A%D8%B4%D9%86%D9%88%D8%A8%D8%B1%D9%8A%D8%A7_%D9%85%D8%A7%D9%86%D9%8A%D8%A8%D9%88%D8%B1%D9%8A%D9%87', 'text': 'مصرى'}, {'href': 'https://as.wikipedia.org/wiki/%E0%A6%AC%E0%A6%BF%E0%A6%B7%E0%A7%8D%E0%A6%A3%E0%A7%81%E0%A6%AA%E0%A7%8D%E0%A7%B0%E0%A6%BF%E0%A6%AF%E0%A6%BC%E0%A6%BE_%E0%A6%AE%E0%A6%A3%E0%A6%BF%E0%A6%AA%E0%A7%81%E0%A7%B0%E0%A7%80_%E0%A6%AD%E0%A6%BE%E0%A6%B7%E0%A6%BE', 'text': 'অসমীয়া'}, {'href': 'https://ast.wikipedia.org/wiki/Bishnupriya_Manipuri', 'text': 'Asturianu'}, {'href': 'https://az.wikipedia.org/wiki/Bi%C5%9Fnupriya-manipuri', 'text': 'Azərbaycanca'}, {'href': 'https://azb.wikipedia.org/wiki/%D8%A8%DB%8C%D8%B4%D9%86%D9%88%D9%BE%D8%B1%DB%8C%DB%8C%D8%A7-%D9%85%D8%A7%D9%86%DB%8C%D9%BE%D9%88%D8%B1%DB%8C', 'text': 'تۆرکجه'}, {'href': 'https://be.wikipedia.org/wiki/%D0%91%D1%96%D1%88%D0%BD%D1%83%D0%BF%D1%80%D1%8B%D1%8F-%D0%BC%D0%B0%D0%BD%D1%96%D0%BF%D1%83%D1%80%D1%8B', 'text': 'Беларуская'}, {'href': 'https://bn.wikipedia.org/wiki/%E0%A6%AC%E0%A6%BF%E0%A6%B7%E0%A7%8D%E0%A6%A3%E0%A7%81%E0%A6%AA%E0%A7%8D%E0%A6%B0%E0%A6%BF%E0%A6%AF%E0%A6%BC%E0%A6%BE_%E0%A6%AE%E0%A6%A3%E0%A6%BF%E0%A6%AA%E0%A7%81%E0%A6%B0%E0%A7%80_%E0%A6%AD%E0%A6%BE%E0%A6%B7%E0%A6%BE', 'text': 'বাংলা'}, {'href': 'https://ca.wikipedia.org/wiki/Bishnupriya_manipuri', 'text': 'Català'}, {'href': 'https://cs.wikipedia.org/wiki/Bi%C5%A1nuprijskomanipur%C5%A1tina', 'text': 'Čeština'}, {'href': 'https://de.wikipedia.org/wiki/Bishnupriya_Manipuri', 'text': 'Deutsch'}, {'href': 'https://en.wikipedia.org/wiki/Bishnupriya_Manipuri', 'text': 'English'}, {'href': 'https://eo.wikipedia.org/wiki/Bi%C5%9Dnuprija_manipura_lingvo', 'text': 'Esperanto'}, {'href': 'https://es.wikipedia.org/wiki/Bishnupriya_Manipuri', 'text': 'Español'}, {'href': 'https://fa.wikipedia.org/wiki/%D8%B2%D8%A8%D8%A7%D9%86_%D8%A8%DB%8C%D8%B4%D9%86%D9%88%D9%BE%D8%B1%DB%8C%D8%A7_%D9%85%D8%A7%D9%86%DB%8C%D9%BE%D9%88%D8%B1%DB%8C', 'text': 'فارسی'}, {'href': 'https://fi.wikipedia.org/wiki/Bishnupriya_manipuri', 'text': 'Suomi'}, {'href': 'https://fr.wikipedia.org/wiki/Bishnupriya_manipuri', 'text': 'Français'}, {'href': 'https://gl.wikipedia.org/wiki/Lingua_bishnupriya_manipuri', 'text': 'Galego'}, {'href': 'https://hak.wikipedia.org/wiki/Bishnupriya_Manipuri-ng%C3%AE', 'text': '客家語 / Hak-kâ-ngî'}, {'href': 'https://hi.wikipedia.org/wiki/%E0%A4%AC%E0%A4%BF%E0%A4%B7%E0%A5%8D%E0%A4%A3%E0%A5%81%E0%A4%AA%E0%A5%8D%E0%A4%B0%E0%A4%BF%E0%A4%AF%E0%A4%BE_%E0%A4%AE%E0%A4%A3%E0%A4%BF%E0%A4%AA%E0%A5%81%E0%A4%B0%E0%A5%80', 'text': 'हिन्दी'}, {'href': 'https://hr.wikipedia.org/wiki/Bi%C5%A1nuprijski_manipurski_jezik', 'text': 'Hrvatski'}, {'href': 'https://hy.wikipedia.org/wiki/%D4%B2%D5%AB%D5%B7%D5%B6%D5%B8%D6%82%D5%BA%D6%80%D5%AB%D5%A1', 'text': 'Հայերեն'}, {'href': 'https://id.wikipedia.org/wiki/Bahasa_Bishnupriya_Manipuri', 'text': 'Bahasa Indonesia'}, {'href': 'https://it.wikipedia.org/wiki/Lingua_bishnupriya', 'text': 'Italiano'}, {'href': 'https://ja.wikipedia.org/wiki/%E3%83%93%E3%82%B7%E3%83%A5%E3%83%8C%E3%83%97%E3%83%AA%E3%83%A4%E3%83%BB%E3%83%9E%E3%83%8B%E3%83%97%E3%83%AA%E8%AA%9E', 'text': '日本語'}, {'href': 'https://ko.wikipedia.org/wiki/%EB%B9%84%EC%8A%88%EB%88%84%ED%94%84%EB%A6%AC%EC%95%BC%EB%A7%88%EB%8B%88%ED%91%B8%EB%A5%B4%EC%96%B4', 'text': '한국어'}, {'href': 'https://la.wikipedia.org/wiki/Lingua_Bisnupriya', 'text': 'Latina'}, {'href': 'https://lt.wikipedia.org/wiki/Bi%C5%A1nuprija_manipuri_kalba', 'text': 'Lietuvių'}, {'href': 'https://mr.wikipedia.org/wiki/%E0%A4%B5%E0%A4%BF%E0%A4%B7%E0%A5%8D%E0%A4%A3%E0%A5%81%E0%A4%AA%E0%A5%8D%E0%A4%B0%E0%A4%BF%E0%A4%AF%E0%A4%BE_%E0%A4%AE%E0%A4%A3%E0%A4%BF%E0%A4%AA%E0%A5%81%E0%A4%B0%E0%A5%80', 'text': 'मराठी'}, {'href': 'https://ms.wikipedia.org/wiki/Bahasa_Bishnupur_Manipur', 'text': 'Bahasa Melayu'}, {'href': 'https://ne.wikipedia.org/wiki/%E0%A4%AC%E0%A4%BF%E0%A4%B7%E0%A5%8D%E0%A4%A3%E0%A5%81%E0%A4%AA%E0%A5%8D%E0%A4%B0%E0%A4%BF%E0%A4%AF%E0%A4%BE_%E0%A4%AE%E0%A4%A3%E0%A4%BF%E0%A4%AA%E0%A5%81%E0%A4%B0%E0%A5%80', 'text': 'नेपाली'}, {'href': 'https://new.wikipedia.org/wiki/%E0%A4%AC%E0%A4%BF%E0%A4%B7%E0%A5%8D%E0%A4%A3%E0%A5%81%E0%A4%AA%E0%A5%8D%E0%A4%B0%E0%A4%BF%E0%A4%AF%E0%A4%BE_%E0%A4%AE%E0%A4%A3%E0%A4%BF%E0%A4%AA%E0%A5%81%E0%A4%B0%E0%A5%80_%E0%A4%AD%E0%A4%BE%E0%A4%B7%E0%A4%BE', 'text': 'नेपाल भाषा'}, {'href': 'https://nl.wikipedia.org/wiki/Bishnupriya', 'text': 'Nederlands'}, {'href': 'https://no.wikipedia.org/wiki/Bishnupriya_manipuri', 'text': 'Norsk bokmål'}, {'href': 'https://pa.wikipedia.org/wiki/%E0%A8%AC%E0%A8%BF%E0%A8%B8%E0%A8%BC%E0%A8%A8%E0%A9%82%E0%A8%AA%E0%A8%B0%E0%A9%80%E0%A8%86_%E0%A8%AE%E0%A8%A3%E0%A9%80%E0%A8%AA%E0%A9%81%E0%A8%B0%E0%A9%80_%E0%A8%AD%E0%A8%BE%E0%A8%B8%E0%A8%BC%E0%A8%BE', 'text': 'ਪੰਜਾਬੀ'}, {'href': 'https://pl.wikipedia.org/wiki/J%C4%99zyk_bisznuprija-manipuri', 'text': 'Polski'}, {'href': 'https://pms.wikipedia.org/wiki/Lenga_bishnupriya_manipuri', 'text': 'Piemontèis'}, {'href': 'https://pnb.wikipedia.org/wiki/%D8%A8%D8%B4%D9%86%D9%BE%D8%B1%DB%8C%D8%A7_%D9%85%D9%86%DB%8C%D9%BE%D9%88%D8%B1%DB%8C', 'text': 'پنجابی'}, {'href': 'https://pt.wikipedia.org/wiki/Bishnupriya_Manipuri', 'text': 'Português'}, {'href': 'https://ru.wikipedia.org/wiki/%D0%91%D0%B8%D1%88%D0%BD%D1%83%D0%BF%D1%80%D0%B8%D1%8F-%D0%BC%D0%B0%D0%BD%D0%B8%D0%BF%D1%83%D1%80%D0%B8', 'text': 'Русский'}, {'href': 'https://sat.wikipedia.org/wiki/%E1%B1%B5%E1%B1%A4%E1%B1%A5%E1%B1%B1%E1%B1%A9_%E1%B1%AF%E1%B1%A8%E1%B1%A4%E1%B1%AD%E1%B1%9F_%E1%B1%A2%E1%B1%B3%E1%B1%B1%E1%B1%A4%E1%B1%AF%E1%B1%A9%E1%B1%A8%E1%B1%A4_%E1%B1%AF%E1%B1%9F%E1%B1%B9%E1%B1%A8%E1%B1%A5%E1%B1%A4', 'text': 'ᱥᱟᱱᱛᱟᱲᱤ'}, {'href': 'https://sk.wikipedia.org/wiki/Bi%C5%A1nupr%C3%ADja_manipur%C3%AD', 'text': 'Slovenčina'}, {'href': 'https://sv.wikipedia.org/wiki/Bishnupriya_manipuri', 'text': 'Svenska'}, {'href': 'https://ta.wikipedia.org/wiki/%E0%AE%AA%E0%AE%BF%E0%AE%B7%E0%AF%8D%E0%AE%A3%E0%AF%81%E0%AE%AA%E0%AF%8D%E0%AE%B0%E0%AE%BF%E0%AE%AF%E0%AE%BE_%E0%AE%AE%E0%AE%A3%E0%AE%BF%E0%AE%AA%E0%AF%8D%E0%AE%AA%E0%AF%81%E0%AE%B0%E0%AF%80_%E0%AE%AE%E0%AF%8A%E0%AE%B4%E0%AE%BF', 'text': 'தமிழ்'}, {'href': 'https://th.wikipedia.org/wiki/%E0%B8%A0%E0%B8%B2%E0%B8%A9%E0%B8%B2%E0%B8%A1%E0%B8%93%E0%B8%B5%E0%B8%9B%E0%B8%B8%E0%B8%A3%E0%B8%B0%E0%B8%9E%E0%B8%B4%E0%B8%A9%E0%B8%93%E0%B8%B8%E0%B8%9B%E0%B8%B8%E0%B8%A3%E0%B8%B0', 'text': 'ไทย'}, {'href': 'https://tl.wikipedia.org/wiki/Wikang_Bishnupriya_Manipuri', 'text': 'Tagalog'}, {'href': 'https://tr.wikipedia.org/wiki/Bishnupriya_Manipuri', 'text': 'Türkçe'}, {'href': 'https://uk.wikipedia.org/wiki/%D0%91%D1%96%D1%88%D0%BD%D1%83%D0%BF%D1%80%D1%96%D1%8F-%D0%BC%D0%B0%D0%BD%D1%96%D0%BF%D1%83%D1%80%D1%96', 'text': 'Українська'}, {'href': 'https://vi.wikipedia.org/wiki/Ti%E1%BA%BFng_Manipur_Bishnupriya', 'text': 'Tiếng Việt'}, {'href': 'https://wa.wikipedia.org/wiki/Bichnoupriya', 'text': 'Walon'}, {'href': 'https://zh.wikipedia.org/wiki/%E6%AF%94%E4%BB%80%E5%8A%AA%E6%99%AE%E9%87%8C%E4%BA%9A-%E6%9B%BC%E5%B0%BC%E6%99%AE%E5%B0%94%E8%AF%AD', 'text': '中文'}, {'href': 'https://zh-min-nan.wikipedia.org/wiki/Bishnupriya_Manipuri-g%C3%AD', 'text': '閩南語 / Bân-lâm-gú'}, {'href': 'https://zh-yue.wikipedia.org/wiki/%E6%AF%94%E4%BB%80%E5%8A%AA%E6%99%AE%E9%87%8C%E4%BA%9E-%E6%9B%BC%E5%B0%BC%E6%99%AE%E7%88%BE%E6%96%87', 'text': '粵語'}, {'href': 'https://www.wikidata.org/wiki/Special:EntityPage/Q37059#sitelinks-wikipedia', 'text': 'লিঙ্কহানি পতা'}, {'href': '/wiki/%E0%A6%AC%E0%A6%BF%E0%A6%B7%E0%A7%8D%E0%A6%A3%E0%A7%81%E0%A6%AA%E0%A7%8D%E0%A6%B0%E0%A6%BF%E0%A6%AF%E0%A6%BC%E0%A6%BE_%E0%A6%AE%E0%A6%A3%E0%A6%BF%E0%A6%AA%E0%A7%81%E0%A6%B0%E0%A7%80', 'text': 'নিবন্ধ'}, {'href': '/wiki/%E0%A6%AF%E0%A6%BC%E0%A7%8D%E0%A6%AF%E0%A6%BE%E0%A6%B0%E0%A7%80:%E0%A6%AC%E0%A6%BF%E0%A6%B7%E0%A7%8D%E0%A6%A3%E0%A7%81%E0%A6%AA%E0%A7%8D%E0%A6%B0%E0%A6%BF%E0%A6%AF%E0%A6%BC%E0%A6%BE_%E0%A6%AE%E0%A6%A3%E0%A6%BF%E0%A6%AA%E0%A7%81%E0%A6%B0%E0%A7%80', 'text': 'য়্যারী'}, {'href': '/wiki/%E0%A6%AC%E0%A6%BF%E0%A6%B7%E0%A7%8D%E0%A6%A3%E0%A7%81%E0%A6%AA%E0%A7%8D%E0%A6%B0%E0%A6%BF%E0%A6%AF%E0%A6%BC%E0%A6%BE_%E0%A6%AE%E0%A6%A3%E0%A6%BF%E0%A6%AA%E0%A7%81%E0%A6%B0%E0%A7%80', 'text': 'পাকরিক'}, {'href': '/w/index.php?title=%E0%A6%AC%E0%A6%BF%E0%A6%B7%E0%A7%8D%E0%A6%A3%E0%A7%81%E0%A6%AA%E0%A7%8D%E0%A6%B0%E0%A6%BF%E0%A6%AF%E0%A6%BC%E0%A6%BE_%E0%A6%AE%E0%A6%A3%E0%A6%BF%E0%A6%AA%E0%A7%81%E0%A6%B0%E0%A7%80&action=edit', 'text': 'পতানি'}, {'href': '/w/index.php?title=%E0%A6%AC%E0%A6%BF%E0%A6%B7%E0%A7%8D%E0%A6%A3%E0%A7%81%E0%A6%AA%E0%A7%8D%E0%A6%B0%E0%A6%BF%E0%A6%AF%E0%A6%BC%E0%A6%BE_%E0%A6%AE%E0%A6%A3%E0%A6%BF%E0%A6%AA%E0%A7%81%E0%A6%B0%E0%A7%80&action=history', 'text': 'ইতিহাস চেইক'}, {'href': '/wiki/%E0%A6%AC%E0%A6%BF%E0%A6%B7%E0%A7%8D%E0%A6%A3%E0%A7%81%E0%A6%AA%E0%A7%8D%E0%A6%B0%E0%A6%BF%E0%A6%AF%E0%A6%BC%E0%A6%BE_%E0%A6%AE%E0%A6%A3%E0%A6%BF%E0%A6%AA%E0%A7%81%E0%A6%B0%E0%A7%80', 'text': 'পাকরিক'}, {'href': '/w/index.php?title=%E0%A6%AC%E0%A6%BF%E0%A6%B7%E0%A7%8D%E0%A6%A3%E0%A7%81%E0%A6%AA%E0%A7%8D%E0%A6%B0%E0%A6%BF%E0%A6%AF%E0%A6%BC%E0%A6%BE_%E0%A6%AE%E0%A6%A3%E0%A6%BF%E0%A6%AA%E0%A7%81%E0%A6%B0%E0%A7%80&action=edit', 'text': 'পতানি'}, {'href': '/w/index.php?title=%E0%A6%AC%E0%A6%BF%E0%A6%B7%E0%A7%8D%E0%A6%A3%E0%A7%81%E0%A6%AA%E0%A7%8D%E0%A6%B0%E0%A6%BF%E0%A6%AF%E0%A6%BC%E0%A6%BE_%E0%A6%AE%E0%A6%A3%E0%A6%BF%E0%A6%AA%E0%A7%81%E0%A6%B0%E0%A7%80&action=history', 'text': 'ইতিহাস চেইক'}, {'href': '/wiki/%E0%A6%AC%E0%A6%BF%E0%A6%B6%E0%A7%87%E0%A6%B7:%E0%A6%B8%E0%A6%82%E0%A6%AF%E0%A7%8B%E0%A6%97%E0%A6%95%E0%A6%BE%E0%A6%B0%E0%A7%80_%E0%A6%AA%E0%A7%83%E0%A6%B7%E0%A7%8D%E0%A6%A0%E0%A6%BE%E0%A6%B8%E0%A6%AE%E0%A7%82%E0%A6%B9/%E0%A6%AC%E0%A6%BF%E0%A6%B7%E0%A7%8D%E0%A6%A3%E0%A7%81%E0%A6%AA%E0%A7%8D%E0%A6%B0%E0%A6%BF%E0%A6%AF%E0%A6%BC%E0%A6%BE_%E0%A6%AE%E0%A6%A3%E0%A6%BF%E0%A6%AA%E0%A7%81%E0%A6%B0%E0%A7%80', 'text': 'যে পাতাহানিত্ত এহানাত মিলাপ আসে'}, {'href': '/wiki/%E0%A6%AC%E0%A6%BF%E0%A6%B6%E0%A7%87%E0%A6%B7:%E0%A6%B8%E0%A6%82%E0%A6%AF%E0%A7%81%E0%A6%95%E0%A7%8D%E0%A6%A4_%E0%A6%B8%E0%A6%BE%E0%A6%AE%E0%A7%8D%E0%A6%AA%E0%A7%8D%E0%A6%B0%E0%A6%A4%E0%A6%BF%E0%A6%95_%E0%A6%AA%E0%A6%B0%E0%A6%BF%E0%A6%AC%E0%A6%B0%E0%A7%8D%E0%A6%A4%E0%A6%A8/%E0%A6%AC%E0%A6%BF%E0%A6%B7%E0%A7%8D%E0%A6%A3%E0%A7%81%E0%A6%AA%E0%A7%8D%E0%A6%B0%E0%A6%BF%E0%A6%AF%E0%A6%BC%E0%A6%BE_%E0%A6%AE%E0%A6%A3%E0%A6%BF%E0%A6%AA%E0%A7%81%E0%A6%B0%E0%A7%80', 'text': 'সাকেই আসে পতা'}, {'href': '//commons.wikimedia.org/wiki/Special:UploadWizard?uselang=bpy', 'text': 'আপলোড ফাইল'}, {'href': '/wiki/%E0%A6%AC%E0%A6%BF%E0%A6%B6%E0%A7%87%E0%A6%B7:%E0%A6%AC%E0%A6%BF%E0%A6%B6%E0%A7%87%E0%A6%B7_%E0%A6%AA%E0%A6%BE%E0%A6%A4%E0%A6%BE', 'text': 'বিশেষ পাতাহানি'}, {'href': '/w/index.php?title=%E0%A6%AC%E0%A6%BF%E0%A6%B7%E0%A7%8D%E0%A6%A3%E0%A7%81%E0%A6%AA%E0%A7%8D%E0%A6%B0%E0%A6%BF%E0%A6%AF%E0%A6%BC%E0%A6%BE_%E0%A6%AE%E0%A6%A3%E0%A6%BF%E0%A6%AA%E0%A7%81%E0%A6%B0%E0%A7%80&oldid=894130', 'text': 'আকুবালা মিলাপ'}, {'href': '/w/index.php?title=%E0%A6%AC%E0%A6%BF%E0%A6%B7%E0%A7%8D%E0%A6%A3%E0%A7%81%E0%A6%AA%E0%A7%8D%E0%A6%B0%E0%A6%BF%E0%A6%AF%E0%A6%BC%E0%A6%BE_%E0%A6%AE%E0%A6%A3%E0%A6%BF%E0%A6%AA%E0%A7%81%E0%A6%B0%E0%A7%80&action=info', 'text': 'পাতাহানর বারে'}, {'href': '/w/index.php?title=%E0%A6%AC%E0%A6%BF%E0%A6%B6%E0%A7%87%E0%A6%B7:%E0%A6%89%E0%A6%A6%E0%A7%8D%E0%A6%A7%E0%A7%83%E0%A6%A4_%E0%A6%95%E0%A6%B0%E0%A7%81%E0%A6%A8&page=%E0%A6%AC%E0%A6%BF%E0%A6%B7%E0%A7%8D%E0%A6%A3%E0%A7%81%E0%A6%AA%E0%A7%8D%E0%A6%B0%E0%A6%BF%E0%A6%AF%E0%A6%BC%E0%A6%BE_%E0%A6%AE%E0%A6%A3%E0%A6%BF%E0%A6%AA%E0%A7%81%E0%A6%B0%E0%A7%80&id=894130&wpFormIdentifier=titleform', 'text': 'নিবন্ধ এহানরে উদ্ধৃত করেদে'}, {'href': '/w/index.php?title=%E0%A6%AC%E0%A6%BF%E0%A6%B6%E0%A7%87%E0%A6%B7:UrlShortener&url=https%3A%2F%2Fbpy.wikipedia.org%2Fwiki%2F%25E0%25A6%25AC%25E0%25A6%25BF%25E0%25A6%25B7%25E0%25A7%258D%25E0%25A6%25A3%25E0%25A7%2581%25E0%25A6%25AA%25E0%25A7%258D%25E0%25A6%25B0%25E0%25A6%25BF%25E0%25A6%25AF%25E0%25A6%25BC%25E0%25A6%25BE_%25E0%25A6%25AE%25E0%25A6%25A3%25E0%25A6%25BF%25E0%25A6%25AA%25E0%25A7%2581%25E0%25A6%25B0%25E0%25A7%2580', 'text': 'সংক্ষিপ্ত ইউআরএল নিন'}, {'href': '/w/index.php?title=%E0%A6%AC%E0%A6%BF%E0%A6%B6%E0%A7%87%E0%A6%B7:QrCode&url=https%3A%2F%2Fbpy.wikipedia.org%2Fwiki%2F%25E0%25A6%25AC%25E0%25A6%25BF%25E0%25A6%25B7%25E0%25A7%258D%25E0%25A6%25A3%25E0%25A7%2581%25E0%25A6%25AA%25E0%25A7%258D%25E0%25A6%25B0%25E0%25A6%25BF%25E0%25A6%25AF%25E0%25A6%25BC%25E0%25A6%25BE_%25E0%25A6%25AE%25E0%25A6%25A3%25E0%25A6%25BF%25E0%25A6%25AA%25E0%25A7%2581%25E0%25A6%25B0%25E0%25A7%2580', 'text': 'কিউআর কোড ডাউনলোড করুন'}, {'href': 'https://www.wikidata.org/wiki/Special:EntityPage/Q37059', 'text': 'উইকিউপাত্ত আইটেম'}, {'href': '/w/index.php?title=%E0%A6%AC%E0%A6%BF%E0%A6%B6%E0%A7%87%E0%A6%B7:%E0%A6%AC%E0%A6%87&bookcmd=book_creator&referer=%E0%A6%AC%E0%A6%BF%E0%A6%B7%E0%A7%8D%E0%A6%A3%E0%A7%81%E0%A6%AA%E0%A7%8D%E0%A6%B0%E0%A6%BF%E0%A6%AF%E0%A6%BC%E0%A6%BE+%E0%A6%AE%E0%A6%A3%E0%A6%BF%E0%A6%AA%E0%A7%81%E0%A6%B0%E0%A7%80', 'text': 'বই তৈরি করো'}, {'href': '/w/index.php?title=%E0%A6%AC%E0%A6%BF%E0%A6%B6%E0%A7%87%E0%A6%B7:DownloadAsPdf&page=%E0%A6%AC%E0%A6%BF%E0%A6%B7%E0%A7%8D%E0%A6%A3%E0%A7%81%E0%A6%AA%E0%A7%8D%E0%A6%B0%E0%A6%BF%E0%A6%AF%E0%A6%BC%E0%A6%BE_%E0%A6%AE%E0%A6%A3%E0%A6%BF%E0%A6%AA%E0%A7%81%E0%A6%B0%E0%A7%80&action=show-download-screen', 'text': 'PDF  ডাউনলোড'}, {'href': '/w/index.php?title=%E0%A6%AC%E0%A6%BF%E0%A6%B7%E0%A7%8D%E0%A6%A3%E0%A7%81%E0%A6%AA%E0%A7%8D%E0%A6%B0%E0%A6%BF%E0%A6%AF%E0%A6%BC%E0%A6%BE_%E0%A6%AE%E0%A6%A3%E0%A6%BF%E0%A6%AA%E0%A7%81%E0%A6%B0%E0%A7%80&printable=yes', 'text': 'ছাপানি একরব সংস্করণ'}, {'href': 'https://commons.wikimedia.org/wiki/Category:Bishnupriya_Manipuri_lect', 'text': 'উইকিমিডিয়া কমন্স'}, {'href': '/wiki/%E0%A6%AD%E0%A6%BE%E0%A6%B0%E0%A6%A4', 'text': 'ভারত'}, {'href': '/wiki/%E0%A6%AC%E0%A6%BE%E0%A6%82%E0%A6%B2%E0%A6%BE%E0%A6%A6%E0%A7%87%E0%A6%B6', 'text': 'বাংলাদেশ'}, {'href': '/wiki/%E0%A6%AE%E0%A6%BE%E0%A6%AF%E0%A6%BC%E0%A6%BE%E0%A6%A8%E0%A6%AE%E0%A6%BE%E0%A6%B0', 'text': 'মায়ানমার'}, {'href': '/w/index.php?title=%E0%A6%A0%E0%A6%BE%E0%A6%B0%E0%A6%B0_%E0%A6%9C%E0%A6%BF%E0%A6%A8%E0%A6%BE%E0%A6%B9%E0%A6%BE%E0%A6%A8&action=edit&redlink=1', 'text': 'ঠারর জিনাহান'}, {'href': '/w/index.php?title=%E0%A6%87%E0%A6%A8%E0%A7%8D%E0%A6%A6%E0%A7%8B-%E0%A6%87%E0%A6%B0%E0%A6%BE%E0%A6%A8%E0%A7%80%E0%A6%AF%E0%A6%BC_%E0%A6%A0%E0%A6%BE%E0%A6%B0&action=edit&redlink=1', 'text': 'ইন্দো-ইরানীয়'}, {'href': '/w/index.php?title=%E0%A6%87%E0%A6%A8%E0%A7%8D%E0%A6%A6%E0%A7%8B-%E0%A6%86%E0%A6%B0%E0%A7%8D%E0%A6%AF_%E0%A6%A0%E0%A6%BE%E0%A6%B0&action=edit&redlink=1', 'text': 'ইন্দো-আর্য'}, {'href': '/w/index.php?title=%E0%A6%87%E0%A6%A8%E0%A7%8D%E0%A6%A6%E0%A7%8B-%E0%A6%86%E0%A6%B0%E0%A7%8D%E0%A6%AF_%E0%A6%AE%E0%A7%81%E0%A6%82_%E0%A6%B2%E0%A6%AF%E0%A6%BC%E0%A6%BE%E0%A6%B0_%E0%A6%A0%E0%A6%BE%E0%A6%B0&action=edit&redlink=1', 'text': 'মুং লয়া'}, {'href': '/w/index.php?title=ISO_639-1&action=edit&redlink=1', 'text': 'ISO 639-1'}, {'href': '/w/index.php?title=ISO_639-2&action=edit&redlink=1', 'text': 'ISO 639-2'}, {'href': '/w/index.php?title=ISO_639-3&action=edit&redlink=1', 'text': 'ISO/FDIS\\xa0639-3'}, {'href': 'http://www.sil.org/iso639-3/documentation.asp?id=bpy', 'text': 'bpy'}, {'href': '/wiki/%E0%A6%9B%E0%A6%AC%E0%A6%BF:Example.of.complex.text.rendering.svg', 'text': ''}, {'href': '/w/index.php?title=%E0%A6%AC%E0%A7%8D%E0%A6%B0%E0%A6%BE%E0%A6%B9%E0%A7%8D%E0%A6%AE%E0%A6%BF%E0%A6%95_%E0%A6%9C%E0%A6%BF%E0%A6%A8%E0%A6%BE%E0%A6%B0&action=edit&redlink=1', 'text': 'ইন্দিক লেহা'}, {'href': '/wiki/%E0%A6%89%E0%A6%87%E0%A6%95%E0%A6%BF%E0%A6%AA%E0%A6%BF%E0%A6%A1%E0%A6%BF%E0%A6%AF%E0%A6%BC%E0%A6%BE:BN/AS/BPY_script_display_help', 'text': 'আরাকউ...'}, {'href': '/wiki/%E0%A6%87%E0%A6%A8%E0%A7%8D%E0%A6%A6%E0%A7%8B-%E0%A6%86%E0%A6%B0%E0%A7%8D%E0%A6%AF_%E0%A6%A0%E0%A6%BE%E0%A6%B0%E0%A6%B0%E0%A6%9C%E0%A6%BF%E0%A6%A8%E0%A6%BE', 'text': 'ইন্দো-আর্যর ঠার'}, {'href': '/w/index.php?title=%E0%A6%AC%E0%A6%BF%E0%A6%B7%E0%A7%8D%E0%A6%A3%E0%A7%81%E0%A6%AA%E0%A7%8D%E0%A6%B0%E0%A6%BF%E0%A6%AF%E0%A6%BC%E0%A6%BE_%E0%A6%AE%E0%A6%A3%E0%A6%BF%E0%A6%AA%E0%A7%81%E0%A6%B0%E0%A7%80&action=edit&section=1', 'text': 'পতিক'}, {'href': '/wiki/%E0%A6%AD%E0%A6%BE%E0%A6%B0%E0%A6%A4', 'text': 'ভারতর'}, {'href': '/wiki/%E0%A6%85%E0%A6%B8%E0%A6%AE', 'text': 'অসম'}, {'href': '/wiki/%E0%A6%A4%E0%A7%8D%E0%A6%B0%E0%A6%BF%E0%A6%AA%E0%A7%81%E0%A6%B0%E0%A6%BE', 'text': 'ত্রিপুরা'}, {'href': '/wiki/%E0%A6%AE%E0%A6%A3%E0%A6%BF%E0%A6%AA%E0%A7%81%E0%A6%B0', 'text': 'মণিপুর'}, {'href': '/wiki/%E0%A6%AC%E0%A6%BE%E0%A6%82%E0%A6%B2%E0%A6%BE%E0%A6%A6%E0%A7%87%E0%A6%B6', 'text': 'বাংলাদেশ'}, {'href': '/wiki/%E0%A6%AE%E0%A6%BE%E0%A6%AF%E0%A6%BC%E0%A6%BE%E0%A6%A8%E0%A6%AE%E0%A6%BE%E0%A6%B0', 'text': 'মায়ানমার'}, {'href': '/wiki/%E0%A6%87%E0%A6%A8%E0%A7%8D%E0%A6%A6%E0%A7%8B-%E0%A6%86%E0%A6%B0%E0%A7%8D%E0%A6%AF%E0%A6%B0_%E0%A6%A0%E0%A6%BE%E0%A6%B0', 'text': 'ইন্দো-আর্যর ঠার'}, {'href': '/wiki/%E0%A6%AC%E0%A6%BE%E0%A6%82%E0%A6%B2%E0%A6%BE_%E0%A6%A0%E0%A6%BE%E0%A6%B0', 'text': 'বাংলা'}, {'href': '/wiki/%E0%A6%85%E0%A6%B9%E0%A6%AE%E0%A7%80%E0%A6%AF%E0%A6%BC%E0%A6%BE_%E0%A6%A0%E0%A6%BE%E0%A6%B0', 'text': 'অহমীয়া'}, {'href': '/wiki/%E0%A6%93%E0%A6%A1%E0%A6%BC%E0%A6%BF%E0%A6%AF%E0%A6%BC%E0%A6%BE_%E0%A6%A0%E0%A6%BE%E0%A6%B0', 'text': 'ওড়িয়া'}, {'href': '/wiki/%E0%A6%AE%E0%A7%87%E0%A6%9C%E0%A6%B0_%E0%A6%AE%E0%A7%87%E0%A6%95%E0%A6%95%E0%A7%81%E0%A6%B2%E0%A6%BE%E0%A6%95', 'text': 'মেজর মেককুলাকর'}, {'href': '/w/index.php?title=%E0%A6%87.%E0%A6%9F%E0%A6%BF._%E0%A6%A1%E0%A6%BE%E0%A6%B2%E0%A6%9F%E0%A6%A8&action=edit&redlink=1', 'text': 'ই.টি. ডালটনর'}, {'href': '/wiki/%E0%A6%B8%E0%A7%8D%E0%A6%AF%E0%A6%BE%E0%A6%B0_%E0%A6%9C%E0%A6%BF.%E0%A6%8F._%E0%A6%97%E0%A7%8D%E0%A6%B0%E0%A6%BF%E0%A6%AF%E0%A6%BC%E0%A6%BE%E0%A6%B0%E0%A7%8D%E0%A6%B8%E0%A6%A8', 'text': 'স্যার জি.এ. গ্রিয়ার্সনর'}, {'href': '/wiki/%E0%A6%AC%E0%A6%BF%E0%A6%B7%E0%A7%8D%E0%A6%A3%E0%A7%81%E0%A6%AA%E0%A7%81%E0%A6%B0', 'text': 'বিষ্ণুপুর'}, {'href': '/wiki/%E0%A6%85%E0%A6%B8%E0%A6%AE', 'text': 'অসম'}, {'href': '/wiki/%E0%A6%A4%E0%A7%8D%E0%A6%B0%E0%A6%BF%E0%A6%AA%E0%A7%81%E0%A6%B0%E0%A6%BE', 'text': 'ত্রিপুরা'}, {'href': '/wiki/%E0%A6%B8%E0%A6%BF%E0%A6%B2%E0%A7%87%E0%A6%9F', 'text': 'সিলেট'}, {'href': '/wiki/%E0%A6%95%E0%A6%BE%E0%A6%9B%E0%A6%BE%E0%A6%A1%E0%A6%BC', 'text': 'কাছাড়'}, {'href': '/wiki/%E0%A6%AE%E0%A6%BE%E0%A6%B0%E0%A6%BF_%E0%A7%A7%E0%A7%AE%E0%A7%AF%E0%A7%A7', 'text': 'মারি ১৮৯১ত'}, {'href': '/wiki/%E0%A6%AC%E0%A6%BF%E0%A6%B7%E0%A7%8D%E0%A6%A3%E0%A7%81%E0%A6%AA%E0%A7%81%E0%A6%B0', 'text': 'বিষ্ণুপুর'}, {'href': '/wiki/%E0%A6%AC%E0%A6%BE%E0%A6%82%E0%A6%B2%E0%A6%BE_%E0%A6%A0%E0%A6%BE%E0%A6%B0', 'text': 'বাংলা ঠারর'}, {'href': '/w/index.php?title=%E0%A6%AC%E0%A6%BF%E0%A6%B7%E0%A7%8D%E0%A6%A3%E0%A7%81%E0%A6%AA%E0%A7%8D%E0%A6%B0%E0%A6%BF%E0%A6%AF%E0%A6%BC%E0%A6%BE_%E0%A6%AE%E0%A6%A3%E0%A6%BF%E0%A6%AA%E0%A7%81%E0%A6%B0%E0%A7%80&action=edit&section=2', 'text': 'পতিক'}, {'href': '/w/index.php?title=%E0%A6%AC%E0%A6%BF%E0%A6%B7%E0%A7%8D%E0%A6%A3%E0%A7%81%E0%A6%AA%E0%A7%8D%E0%A6%B0%E0%A6%BF%E0%A6%AF%E0%A6%BC%E0%A6%BE_%E0%A6%AE%E0%A6%A3%E0%A6%BF%E0%A6%AA%E0%A7%81%E0%A6%B0%E0%A7%80&action=edit&section=3', 'text': 'পতিক'}, {'href': '/w/index.php?title=%E0%A6%AE%E0%A7%88%E0%A6%A4%E0%A7%88&action=edit&redlink=1', 'text': 'মৈতৈ'}, {'href': '/w/index.php?title=%E0%A6%AC%E0%A6%BF%E0%A6%B7%E0%A7%8D%E0%A6%A3%E0%A7%81%E0%A6%AA%E0%A7%8D%E0%A6%B0%E0%A6%BF%E0%A6%AF%E0%A6%BC%E0%A6%BE_%E0%A6%AE%E0%A6%A3%E0%A6%BF%E0%A6%AA%E0%A7%81%E0%A6%B0%E0%A7%80&action=edit&section=4', 'text': 'পতিক'}, {'href': '/wiki/%E0%A6%AE%E0%A7%87%E0%A6%AF%E0%A6%BC%E0%A7%87%E0%A6%95', 'text': 'মেয়েক'}, {'href': '/w/index.php?title=%E0%A6%AC%E0%A6%BF%E0%A6%B7%E0%A7%8D%E0%A6%A3%E0%A7%81%E0%A6%AA%E0%A7%8D%E0%A6%B0%E0%A6%BF%E0%A6%AF%E0%A6%BC%E0%A6%BE_%E0%A6%AE%E0%A6%A3%E0%A6%BF%E0%A6%AA%E0%A7%81%E0%A6%B0%E0%A7%80&action=edit&section=5', 'text': 'পতিক'}, {'href': '/w/index.php?title=%E0%A6%AC%E0%A6%BF%E0%A6%B7%E0%A7%8D%E0%A6%A3%E0%A7%81%E0%A6%AA%E0%A7%8D%E0%A6%B0%E0%A6%BF%E0%A6%AF%E0%A6%BC%E0%A6%BE_%E0%A6%AE%E0%A6%A3%E0%A6%BF%E0%A6%AA%E0%A7%81%E0%A6%B0%E0%A7%80&action=edit&section=6', 'text': 'পতিক'}, {'href': '/wiki/%E0%A6%85%E0%A6%B8%E0%A6%AE', 'text': 'অসমে'}, {'href': '/wiki/%E0%A6%A4%E0%A7%8D%E0%A6%B0%E0%A6%BF%E0%A6%AA%E0%A7%81%E0%A6%B0%E0%A6%BE', 'text': 'ত্রিপুরাত'}, {'href': '/wiki/%E0%A6%9C%E0%A6%BF%E0%A6%B0%E0%A6%BF%E0%A6%AC%E0%A6%BE%E0%A6%AE', 'text': 'জিরিবাম'}, {'href': '/wiki/%E0%A6%AE%E0%A6%A3%E0%A6%BF%E0%A6%AA%E0%A7%81%E0%A6%B0', 'text': 'মণিপুরে'}, {'href': '/wiki/%E0%A6%A8%E0%A6%BF%E0%A6%99%E0%A6%A5%E0%A7%8C%E0%A6%96%E0%A6%99', 'text': 'নিঙথৌখঙ'}, {'href': '/wiki/%E0%A6%AE%E0%A6%A3%E0%A6%BF%E0%A6%AA%E0%A7%81%E0%A6%B0', 'text': 'মণিপুরে'}, {'href': '/wiki/%E0%A6%AC%E0%A6%BF%E0%A6%B7%E0%A7%8D%E0%A6%A3%E0%A7%81%E0%A6%AA%E0%A7%81%E0%A6%B0', 'text': 'বিষ্ণুপুর'}, {'href': '/wiki/%E0%A6%AE%E0%A6%A3%E0%A6%BF%E0%A6%AA%E0%A7%81%E0%A6%B0', 'text': 'মণিপুরে'}, {'href': '/wiki/%E0%A6%AE%E0%A7%87%E0%A6%98%E0%A6%BE%E0%A6%B2%E0%A6%AF%E0%A6%BC', 'text': 'মেঘালয়ত'}, {'href': '/wiki/%E0%A6%85%E0%A6%B0%E0%A7%81%E0%A6%A3%E0%A6%BE%E0%A6%9A%E0%A6%B2_%E0%A6%AA%E0%A7%8D%E0%A6%B0%E0%A6%A6%E0%A7%87%E0%A6%B6', 'text': 'অরুণাচল প্রদেশে'}, {'href': '/wiki/%E0%A6%AC%E0%A6%BE%E0%A6%82%E0%A6%B2%E0%A6%BE%E0%A6%A6%E0%A7%87%E0%A6%B6', 'text': 'বাংলাদেশে'}, {'href': '/wiki/%E0%A6%A8%E0%A6%BE%E0%A6%97%E0%A6%BE%E0%A6%B2%E0%A7%8D%E0%A6%AF%E0%A6%BE%E0%A6%A8%E0%A7%8D%E0%A6%A1', 'text': 'নাগাল্যান্ডে'}, {'href': '/wiki/%E0%A6%AE%E0%A6%BF%E0%A6%9C%E0%A7%8B%E0%A6%B0%E0%A6%BE%E0%A6%AE', 'text': 'মিজোরামে'}, {'href': '/wiki/%E0%A6%A6%E0%A6%BF%E0%A6%B2%E0%A7%8D%E0%A6%B2%E0%A7%80', 'text': 'দিল্লীত'}, {'href': '/wiki/%E0%A6%AE%E0%A6%BE%E0%A6%AF%E0%A6%BC%E0%A6%BE%E0%A6%A8%E0%A6%AE%E0%A6%BE%E0%A6%B0', 'text': 'মায়ানমারে'}, {'href': '/wiki/%E0%A6%A4%E0%A6%BF%E0%A6%B2%E0%A6%AA%E0%A6%BE%E0%A6%B0%E0%A6%BE%E0%A6%B7%E0%A7%8D%E0%A6%9F%E0%A7%8D%E0%A6%B0', 'text': 'তিলপারাষ্ট্র'}, {'href': '/w/index.php?title=%E0%A6%AC%E0%A7%8D%E0%A6%B0%E0%A6%BF%E0%A6%9F%E0%A7%8D%E0%A6%B0%E0%A7%87%E0%A6%A8&action=edit&redlink=1', 'text': 'ব্রিট্রেন'}, {'href': '/wiki/%E0%A6%95%E0%A6%BE%E0%A6%A8%E0%A6%BE%E0%A6%A1%E0%A6%BE', 'text': 'কানাডা'}, {'href': '/w/index.php?title=%E0%A6%AE%E0%A6%A7%E0%A7%8D%E0%A6%AF-%E0%A6%AA%E0%A7%8D%E0%A6%B0%E0%A6%BE%E0%A6%9A%E0%A7%8D%E0%A6%AF&action=edit&redlink=1', 'text': 'মধ্য-প্রাচ্য'}, {'href': '/w/index.php?title=%E0%A6%AC%E0%A6%BF%E0%A6%B7%E0%A7%8D%E0%A6%A3%E0%A7%81%E0%A6%AA%E0%A7%8D%E0%A6%B0%E0%A6%BF%E0%A6%AF%E0%A6%BC%E0%A6%BE_%E0%A6%AE%E0%A6%A3%E0%A6%BF%E0%A6%AA%E0%A7%81%E0%A6%B0%E0%A7%80&action=edit&section=7', 'text': 'পতিক'}, {'href': '/w/index.php?title=%E0%A6%AC%E0%A6%BF%E0%A6%B7%E0%A7%8D%E0%A6%A3%E0%A7%81%E0%A6%AA%E0%A7%8D%E0%A6%B0%E0%A6%BF%E0%A6%AF%E0%A6%BC%E0%A6%BE_%E0%A6%AE%E0%A6%A3%E0%A6%BF%E0%A6%AA%E0%A7%81%E0%A6%B0%E0%A7%80&action=edit&section=8', 'text': 'পতিক'}, {'href': 'http://manipuri.itgo.com/archives/boron_dahanir_ela.htm', 'text': 'বরন ডাহানির এলা'}, {'href': 'https://web.archive.org/web/20170902145839/https://bishnupriyamanipuri.men/index.php?title=Main_Page', 'text': 'মাদই সরারেলর এলা'}, {'href': '/wiki/%E0%A6%A4%E0%A6%BF%E0%A6%AC%E0%A7%8D%E0%A6%AC%E0%A6%A4-%E0%A6%AC%E0%A6%BE%E0%A6%B0%E0%A7%8D%E0%A6%AE%E0%A6%BF%E0%A6%9C', 'text': 'তিব্বত-বার্মিজ'}, {'href': '/w/index.php?title=%E0%A6%AC%E0%A6%BF%E0%A6%B7%E0%A7%8D%E0%A6%A3%E0%A7%81%E0%A6%AA%E0%A7%8D%E0%A6%B0%E0%A6%BF%E0%A6%AF%E0%A6%BC%E0%A6%BE_%E0%A6%AE%E0%A6%A3%E0%A6%BF%E0%A6%AA%E0%A7%81%E0%A6%B0%E0%A7%80&action=edit&section=9', 'text': 'পতিক'}, {'href': '/wiki/%E0%A6%97%E0%A7%8B%E0%A6%95%E0%A7%81%E0%A6%B2%E0%A6%BE%E0%A6%A8%E0%A6%A8%E0%A7%8D%E0%A6%A6_%E0%A6%97%E0%A7%80%E0%A6%A4%E0%A6%BF%E0%A6%B8%E0%A7%8D%E0%A6%AC%E0%A6%BE%E0%A6%AE%E0%A7%80', 'text': 'গোকুলানন্দ গীতিস্বামী'}, {'href': '/w/index.php?title=%E0%A6%AC%E0%A6%BF%E0%A6%B7%E0%A7%8D%E0%A6%A3%E0%A7%81%E0%A6%AA%E0%A7%8D%E0%A6%B0%E0%A6%BF%E0%A6%AF%E0%A6%BC%E0%A6%BE_%E0%A6%AE%E0%A6%A3%E0%A6%BF%E0%A6%AA%E0%A7%81%E0%A6%B0%E0%A7%80&action=edit&section=10', 'text': 'পতিক'}, {'href': '/wiki/%E0%A6%AE%E0%A6%A6%E0%A6%A8%E0%A6%AE%E0%A7%8B%E0%A6%B9%E0%A6%A8_%E0%A6%AE%E0%A7%81%E0%A6%96%E0%A7%8B%E0%A6%AA%E0%A6%BE%E0%A6%A7%E0%A7%8D%E0%A6%AF%E0%A6%BE%E0%A6%AF%E0%A6%BC', 'text': 'মদনমোহন মুখোপাধ্যায়'}, {'href': '/wiki/%E0%A6%AC%E0%A7%8D%E0%A6%B0%E0%A6%9C%E0%A7%87%E0%A6%A8%E0%A7%8D%E0%A6%A6%E0%A7%8D%E0%A6%B0%E0%A6%95%E0%A7%81%E0%A6%AE%E0%A6%BE%E0%A6%B0_%E0%A6%B8%E0%A6%BF%E0%A6%82%E0%A6%B9', 'text': 'ব্রজেন্দ্রকুমার সিংহ'}, {'href': '/wiki/%E0%A6%A7%E0%A6%A8%E0%A6%9E%E0%A7%8D%E0%A6%9C%E0%A6%AF%E0%A6%BC_%E0%A6%AC%E0%A6%BE%E0%A6%9C%E0%A6%95%E0%A7%81%E0%A6%AE%E0%A6%BE%E0%A6%B0', 'text': 'ধনঞ্জয় বাজকুমার'}, {'href': '/wiki/%E0%A6%B8%E0%A7%87%E0%A6%A8%E0%A6%BE%E0%A6%B0%E0%A7%82%E0%A6%AA_%E0%A6%B8%E0%A6%BF%E0%A6%82%E0%A6%B9', 'text': 'সেনারূপ সিংহ'}, {'href': '/wiki/%E0%A6%AE%E0%A6%A5%E0%A7%81%E0%A6%B0%E0%A6%BE_%E0%A6%B8%E0%A6%BF%E0%A6%82%E0%A6%B9', 'text': 'মথুরা সিংহ'}, {'href': '/wiki/%E0%A6%A6%E0%A6%BF%E0%A6%B2%E0%A7%8D%E0%A6%B8_%E0%A6%A6%E0%A7%87%E0%A6%AC%E0%A6%9C%E0%A7%8D%E0%A6%AF%E0%A7%8B%E0%A6%A4%E0%A6%BF_%E0%A6%B8%E0%A6%BF%E0%A6%82%E0%A6%B9', 'text': 'দিল্স দেবজ্যোতি সিংহ'}, {'href': '/w/index.php?title=%E0%A6%9A%E0%A6%A8%E0%A7%8D%E0%A6%A6%E0%A7%8D%E0%A6%B0%E0%A6%95%E0%A6%BE%E0%A6%A8%E0%A7%8D%E0%A6%A4_%E0%A6%B8%E0%A6%BF%E0%A6%82%E0%A6%B9&action=edit&redlink=1', 'text': 'চন্দ্রকান্ত সিংহ'}, {'href': '/wiki/%E0%A6%A6%E0%A6%BF%E0%A6%B2%E0%A7%8D%E0%A6%B8_%E0%A6%B2%E0%A6%95%E0%A7%8D%E0%A6%B7%E0%A7%80%E0%A6%A8%E0%A7%8D%E0%A6%A6%E0%A7%8D%E0%A6%B0_%E0%A6%B8%E0%A6%BF%E0%A6%82%E0%A6%B9', 'text': 'দিল্স লক্ষীন্দ্র সিংহ'}, {'href': '/wiki/%E0%A6%B8%E0%A6%AE%E0%A6%B0%E0%A6%9C%E0%A6%BF%E0%A7%8E_%E0%A6%B8%E0%A6%BF%E0%A6%82%E0%A6%B9', 'text': 'সমরজিৎ সিংহ'}, {'href': '/wiki/%E0%A6%AC%E0%A6%BF%E0%A6%B6%E0%A7%8D%E0%A6%AC%E0%A6%9C%E0%A6%BF%E0%A7%8E_%E0%A6%B8%E0%A6%BF%E0%A6%82%E0%A6%B9', 'text': 'বিশ্বজিৎ সিংহ'}, {'href': '/w/index.php?title=%E0%A6%B8%E0%A7%8D%E0%A6%AE%E0%A7%83%E0%A6%A4%E0%A6%BF%E0%A6%95%E0%A7%81%E0%A6%AE%E0%A6%BE%E0%A6%B0_%E0%A6%B8%E0%A6%BF%E0%A6%82%E0%A6%B9&action=edit&redlink=1', 'text': 'স্মৃতিকুমার সিংহ'}, {'href': '/w/index.php?title=%E0%A6%AC%E0%A6%BF%E0%A6%AE%E0%A6%B2_%E0%A6%B8%E0%A6%BF%E0%A6%82%E0%A6%B9&action=edit&redlink=1', 'text': 'বিমল সিংহ'}, {'href': '/w/index.php?title=%E0%A6%85%E0%A6%A8%E0%A7%81%E0%A6%95%E0%A7%81%E0%A6%B2_%E0%A6%B8%E0%A6%BF%E0%A6%82%E0%A6%B9&action=edit&redlink=1', 'text': 'অনুকুল সিংহর'}, {'href': '/wiki/%E0%A6%A1%E0%A6%83_%E0%A6%95%E0%A6%BE%E0%A6%B2%E0%A7%80%E0%A6%AA%E0%A7%8D%E0%A6%B0%E0%A6%B8%E0%A6%BE%E0%A6%A6_%E0%A6%B8%E0%A6%BF%E0%A6%82%E0%A6%B9', 'text': 'ডঃ কালীপ্রসাদ সিংহ'}, {'href': '/wiki/%E0%A6%9C%E0%A6%97%E0%A7%8E%E0%A6%AE%E0%A7%8B%E0%A6%B9%E0%A6%A8_%E0%A6%B8%E0%A6%BF%E0%A6%82%E0%A6%B9', 'text': 'জগৎমোহন সিংহ'}, {'href': '/w/index.php?title=%E0%A6%85%E0%A6%A7%E0%A7%8D%E0%A6%AF%E0%A6%BE%E0%A6%AA%E0%A6%95_%E0%A6%AC%E0%A6%B0%E0%A7%81%E0%A6%A8_%E0%A6%95%E0%A7%81%E0%A6%AE%E0%A6%BE%E0%A6%B0_%E0%A6%B8%E0%A6%BF%E0%A6%82%E0%A6%B9&action=edit&redlink=1', 'text': 'অধ্যাপক বরুন কুমার সিংহ'}, {'href': '/w/index.php?title=%E0%A6%AC%E0%A6%BF%E0%A6%B7%E0%A7%8D%E0%A6%A3%E0%A7%81%E0%A6%AA%E0%A7%8D%E0%A6%B0%E0%A6%BF%E0%A6%AF%E0%A6%BC%E0%A6%BE_%E0%A6%AE%E0%A6%A3%E0%A6%BF%E0%A6%AA%E0%A7%81%E0%A6%B0%E0%A7%80&action=edit&section=11', 'text': 'পতিক'}, {'href': '/w/index.php?title=%E0%A6%AC%E0%A6%BF%E0%A6%B7%E0%A7%8D%E0%A6%A3%E0%A7%81%E0%A6%AA%E0%A7%8D%E0%A6%B0%E0%A6%BF%E0%A6%AF%E0%A6%BC%E0%A6%BE_%E0%A6%AE%E0%A6%A3%E0%A6%BF%E0%A6%AA%E0%A7%81%E0%A6%B0%E0%A7%80&action=edit&section=12', 'text': 'পতিক'}, {'href': '/wiki/%E0%A6%AE%E0%A6%A6%E0%A6%A8%E0%A6%AE%E0%A7%8B%E0%A6%B9%E0%A6%A8_%E0%A6%AE%E0%A7%81%E0%A6%96%E0%A7%8B%E0%A6%AA%E0%A6%BE%E0%A6%A7%E0%A7%8D%E0%A6%AF%E0%A6%BE%E0%A6%AF%E0%A6%BC', 'text': 'মদনমোহন মুখোপাধ্যায়'}, {'href': '/wiki/%E0%A6%AC%E0%A7%8D%E0%A6%B0%E0%A6%9C%E0%A7%87%E0%A6%A8%E0%A7%8D%E0%A6%A6%E0%A7%8D%E0%A6%B0%E0%A6%95%E0%A7%81%E0%A6%AE%E0%A6%BE%E0%A6%B0_%E0%A6%B8%E0%A6%BF%E0%A6%82%E0%A6%B9', 'text': 'ব্রজেন্দ্রকুমার সিংহ'}, {'href': '/wiki/%E0%A6%A1%E0%A6%83_%E0%A6%95%E0%A6%BE%E0%A6%B2%E0%A7%80%E0%A6%AA%E0%A7%8D%E0%A6%B0%E0%A6%B8%E0%A6%BE%E0%A6%A6_%E0%A6%B8%E0%A6%BF%E0%A6%82%E0%A6%B9', 'text': 'ডঃ কালীপ্রসাদ সিংহ'}, {'href': '/w/index.php?title=%E0%A6%AC%E0%A6%B0%E0%A7%81%E0%A6%A3_%E0%A6%95%E0%A7%81%E0%A6%AE%E0%A6%BE%E0%A6%B0_%E0%A6%B8%E0%A6%BF%E0%A6%82%E0%A6%B9&action=edit&redlink=1', 'text': 'বরুণ কুমার সিংহ'}, {'href': '/wiki/%E0%A6%A6%E0%A6%BF%E0%A6%B2%E0%A7%8D%E0%A6%B8_%E0%A6%B2%E0%A6%95%E0%A7%8D%E0%A6%B7%E0%A7%80%E0%A6%A8%E0%A7%8D%E0%A6%A6%E0%A7%8D%E0%A6%B0_%E0%A6%B8%E0%A6%BF%E0%A6%82%E0%A6%B9', 'text': 'দিল্স লক্ষীন্দ্র সিংহ'}, {'href': '/w/index.php?title=%E0%A6%95%E0%A6%BE%E0%A6%9E%E0%A7%8D%E0%A6%9A%E0%A6%A8%E0%A6%AC%E0%A6%B0%E0%A6%A3_%E0%A6%B8%E0%A6%BF%E0%A6%82%E0%A6%B9&action=edit&redlink=1', 'text': 'কাঞ্চনবরণ সিংহ'}, {'href': '/wiki/%E0%A6%A6%E0%A6%BF%E0%A6%B2%E0%A7%8D%E0%A6%B8_%E0%A6%A6%E0%A7%87%E0%A6%AC%E0%A6%9C%E0%A7%8D%E0%A6%AF%E0%A7%8B%E0%A6%A4%E0%A6%BF_%E0%A6%B8%E0%A6%BF%E0%A6%82%E0%A6%B9', 'text': 'দিল্স দেবজ্যোতি সিংহ'}, {'href': '/wiki/%E0%A6%AE%E0%A6%A7%E0%A7%81_%E0%A6%AE%E0%A6%99%E0%A7%8D%E0%A6%97%E0%A6%B2_%E0%A6%B8%E0%A6%BF%E0%A6%A8%E0%A6%B9%E0%A6%BE', 'text': 'মধু মঙ্গল সিনহা'}, {'href': '/w/index.php?title=%E0%A6%95%E0%A7%83%E0%A6%B7%E0%A7%8D%E0%A6%A3_%E0%A6%B8%E0%A6%BF%E0%A6%82%E0%A6%B9&action=edit&redlink=1', 'text': 'কৃষ্ণ সিংহ'}, {'href': '/w/index.php?title=%E0%A6%AC%E0%A6%BF%E0%A6%B7%E0%A7%8D%E0%A6%A3%E0%A7%81%E0%A6%AA%E0%A7%8D%E0%A6%B0%E0%A6%BF%E0%A6%AF%E0%A6%BC%E0%A6%BE_%E0%A6%AE%E0%A6%A3%E0%A6%BF%E0%A6%AA%E0%A7%81%E0%A6%B0%E0%A7%80&action=edit&section=13', 'text': 'পতিক'}, {'href': '/w/index.php?title=%E0%A6%B6%E0%A7%81%E0%A6%AD%E0%A6%BE%E0%A6%B6%E0%A6%BF%E0%A6%B8_%E0%A6%B8%E0%A6%BF%E0%A6%A8%E0%A6%B9%E0%A6%BE_%E0%A6%B8%E0%A6%AE%E0%A7%80%E0%A6%B0&action=edit&redlink=1', 'text': 'শুভাশিস সিনহা সমীর'}, {'href': '/wiki/%E0%A6%85%E0%A6%A7%E0%A7%8D%E0%A6%AF%E0%A6%BE%E0%A6%AA%E0%A6%95_%E0%A6%B0%E0%A6%A3%E0%A6%9C%E0%A6%BF%E0%A6%A4_%E0%A6%B8%E0%A6%BF%E0%A6%82%E0%A6%B9', 'text': 'অধ্যাপক রণজিত সিংহ'}, {'href': '/w/index.php?title=%E0%A6%85%E0%A6%B8%E0%A7%80%E0%A6%AE_%E0%A6%95%E0%A7%81%E0%A6%AE%E0%A6%BE%E0%A6%B0_%E0%A6%B8%E0%A6%BF%E0%A6%82%E0%A6%B9&action=edit&redlink=1', 'text': 'অসীম কুমার সিংহ'}, {'href': '/w/index.php?title=%E0%A6%AC%E0%A6%BF%E0%A6%B7%E0%A7%8D%E0%A6%A3%E0%A7%81%E0%A6%AA%E0%A7%8D%E0%A6%B0%E0%A6%BF%E0%A6%AF%E0%A6%BC%E0%A6%BE_%E0%A6%AE%E0%A6%A3%E0%A6%BF%E0%A6%AA%E0%A7%81%E0%A6%B0%E0%A7%80&action=edit&section=14', 'text': 'পতিক'}, {'href': '/wiki/%E0%A6%AC%E0%A6%BF%E0%A6%B7%E0%A7%8D%E0%A6%A3%E0%A7%81%E0%A6%AA%E0%A7%8D%E0%A6%B0%E0%A6%BF%E0%A6%AF%E0%A6%BC%E0%A6%BE_%E0%A6%AE%E0%A6%A3%E0%A6%BF%E0%A6%AA%E0%A7%81%E0%A6%B0%E0%A7%80_%E0%A6%A0%E0%A6%BE%E0%A6%B0%E0%A6%B0_%E0%A6%AA%E0%A6%A4%E0%A7%8D%E0%A6%B0%E0%A6%BF%E0%A6%95%E0%A6%BE%E0%A6%B0_%E0%A6%A4%E0%A6%BE%E0%A6%B2%E0%A6%BF%E0%A6%95%E0%A6%BE', 'text': 'বিষ্ণুপ্রিয়া মণিপুরী ঠারর পত্রিকার তালিকা'}, {'href': '/wiki/%E0%A6%AC%E0%A6%BF%E0%A6%B7%E0%A7%8D%E0%A6%A3%E0%A7%81%E0%A6%AA%E0%A7%8D%E0%A6%B0%E0%A6%BF%E0%A6%AF%E0%A6%BC%E0%A6%BE_%E0%A6%AE%E0%A6%A3%E0%A6%BF%E0%A6%AA%E0%A7%81%E0%A6%B0%E0%A7%80%E0%A6%B0_%E0%A6%B8%E0%A6%BE%E0%A6%B9%E0%A6%BF%E0%A6%A4%E0%A7%8D%E0%A6%AF%E0%A6%BF%E0%A6%95', 'text': 'বিষ্ণুপ্রিয়া মণিপুরীর সাহিত্যিক'}, {'href': '/wiki/%E0%A6%AC%E0%A6%BE%E0%A6%82%E0%A6%B2%E0%A6%BE%E0%A6%A6%E0%A7%87%E0%A6%B6%E0%A6%B0_%E0%A6%AC%E0%A6%BF%E0%A6%B7%E0%A7%8D%E0%A6%A3%E0%A7%81%E0%A6%AA%E0%A7%8D%E0%A6%B0%E0%A6%BF%E0%A6%AF%E0%A6%BC%E0%A6%BE_%E0%A6%AE%E0%A6%A3%E0%A6%BF%E0%A6%AA%E0%A7%81%E0%A6%B0%E0%A7%80_%E0%A6%B8%E0%A6%BE%E0%A6%B9%E0%A6%BF%E0%A6%A4%E0%A7%8D%E0%A6%AF', 'text': 'বাংলাদেশর বিষ্ণুপ্রিয়া মণিপুরী সাহিত্য'}, {'href': '/w/index.php?title=%E0%A6%AC%E0%A6%BF%E0%A6%B7%E0%A7%8D%E0%A6%A3%E0%A7%81%E0%A6%AA%E0%A7%8D%E0%A6%B0%E0%A6%BF%E0%A6%AF%E0%A6%BC%E0%A6%BE_%E0%A6%AE%E0%A6%A3%E0%A6%BF%E0%A6%AA%E0%A7%81%E0%A6%B0%E0%A7%80&action=edit&section=15', 'text': 'পতিক'}, {'href': 'http://www.languageinindia.com/dec2002/bishnupriya.html', 'text': 'বিষ্ণুপ্রিয়া মণিপুরীর হুরুকা পরিচিতি'}, {'href': 'http://manipuri.freeservers.com/', 'text': 'বিষ্ণুপ্রিয়া মণিপুরী ঠারর বারাদে'}, {'href': 'http://Manipuri.htmlplanet.com', 'text': 'বিষ্ণুপ্রিয়া মণিপুরী সাহিত্যর বারনগ'}, {'href': 'https://web.archive.org/web/20090328214211/http://www.manipuri.org/discus/', 'text': 'বিষ্ণুপ্রিয়া মণিপুরী আলোচনা'}, {'href': 'https://web.archive.org/web/20190604054712/http://www.bishnupriya-manipuri.org/', 'text': 'বিষ্ণুপ্রিয়া মণিপুরী সমাজ'}, {'href': 'http://www.manipuri.wordpress.com', 'text': 'বিষ্ণুপ্রিয়া মণিপুরীর গজে ইংরেজী ব্লগগো'}, {'href': 'http://www.somewhereinblog.net/blog/kungothangblog', 'text': 'বিষ্ণুপ্রিয়া মণিপুরীর গজে বাংলা ব্লগগো'}, {'href': 'http://manipuriblog.blogspot.com', 'text': 'মণিপুরীর ইতিহাস,সংস্কৃতি,সাহিত্যর গজে ব্লগ আগো'}, {'href': 'http://imarthar.blogspot.com', 'text': 'ইউনিকোড মেয়েকে বিষ্ণুপ্রিয়া মণিপুরী সাহিত্য সংগ্রহ'}, {'href': 'https://web.archive.org/web/20170902145839/https://bishnupriyamanipuri.men/index.php?title=Main_Page', 'text': 'আমার ইতিহাস'}, {'href': 'https://web.archive.org/web/20180425080826/https://www.indne.com/index.php', 'text': 'আমার পোশাক'}, {'href': '/w/index.php?title=%E0%A6%AC%E0%A6%BF%E0%A6%B7%E0%A7%8D%E0%A6%A3%E0%A7%81%E0%A6%AA%E0%A7%8D%E0%A6%B0%E0%A6%BF%E0%A6%AF%E0%A6%BC%E0%A6%BE_%E0%A6%AE%E0%A6%A3%E0%A6%BF%E0%A6%AA%E0%A7%81%E0%A6%B0%E0%A7%80&action=edit&section=16', 'text': 'পতিক'}, {'href': '/wiki/%E0%A6%A1%E0%A6%83_%E0%A6%95%E0%A6%BE%E0%A6%B2%E0%A7%80_%E0%A6%AA%E0%A7%8D%E0%A6%B0%E0%A6%B8%E0%A6%BE%E0%A6%A6_%E0%A6%B8%E0%A6%BF%E0%A6%82%E0%A6%B9', 'text': 'ডঃ কালী প্রসাদ সিংহ'}, {'href': '/wiki/%E0%A6%B8%E0%A6%BF%E0%A6%B2%E0%A7%87%E0%A6%9F_%E0%A6%9C%E0%A6%BF%E0%A6%B2%E0%A6%BE', 'text': 'সিলেট'}, {'href': '/wiki/%E0%A6%AC%E0%A6%BE%E0%A6%82%E0%A6%B2%E0%A6%BE%E0%A6%A6%E0%A7%87%E0%A6%B6', 'text': 'বাংলাদেশ'}, {'href': '/w/index.php?title=%E0%A6%85%E0%A6%B8%E0%A7%80%E0%A6%AE_%E0%A6%95%E0%A7%81%E0%A6%AE%E0%A6%BE%E0%A6%B0_%E0%A6%B8%E0%A6%BF%E0%A6%82%E0%A6%B9&action=edit&redlink=1', 'text': 'অসীম কুমার সিংহ'}, {'href': '/wiki/%E0%A6%A1%E0%A6%83_%E0%A6%95%E0%A6%BE%E0%A6%B2%E0%A7%80%E0%A6%AA%E0%A7%8D%E0%A6%B0%E0%A6%B8%E0%A6%BE%E0%A6%A6_%E0%A6%B8%E0%A6%BF%E0%A6%82%E0%A6%B9', 'text': 'ডঃ কালীপ্রসাদ সিংহ'}, {'href': '/wiki/%E0%A6%87%E0%A6%AE%E0%A7%8D%E0%A6%AB%E0%A6%B2', 'text': 'ইম্ফল'}, {'href': '/w/index.php?title=%E0%A6%A1%E0%A6%83_%E0%A6%8F%E0%A6%AE_%E0%A6%95%E0%A7%80%E0%A6%B0%E0%A7%8D%E0%A6%A4%E0%A7%8D%E0%A6%A4%E0%A6%BF_%E0%A6%B8%E0%A6%BF%E0%A6%82%E0%A6%B9&action=edit&redlink=1', 'text': 'ডঃ এম কীর্ত্তি সিংহ'}, {'href': '/wiki/%E0%A6%B6%E0%A6%BF%E0%A6%B2%E0%A6%9A%E0%A6%B0', 'text': 'শিলচর'}, {'href': '/wiki/%E0%A6%9C%E0%A6%97%E0%A7%8E%E0%A6%AE%E0%A7%8B%E0%A6%B9%E0%A6%A8_%E0%A6%B8%E0%A6%BF%E0%A6%82%E0%A6%B9', 'text': 'জগৎমোহন সিংহ'}, {'href': '/w/index.php?title=%E0%A6%AC%E0%A7%80%E0%A6%B0%E0%A7%87%E0%A6%A8%E0%A7%8D%E0%A6%A6%E0%A7%8D%E0%A6%B0_%E0%A6%B8%E0%A6%BF%E0%A6%82%E0%A6%B9&action=edit&redlink=1', 'text': 'বীরেন্দ্র সিংহ'}, {'href': '/wiki/%E0%A6%AE%E0%A6%A7%E0%A7%81_%E0%A6%AE%E0%A6%99%E0%A7%8D%E0%A6%97%E0%A6%B2_%E0%A6%B8%E0%A6%BF%E0%A6%82%E0%A6%B9', 'text': 'মধু মঙ্গল সিংহ'}, {'href': '/w/index.php?title=%E0%A6%95%E0%A7%83%E0%A6%B7%E0%A7%8D%E0%A6%A3_%E0%A6%B8%E0%A6%BF%E0%A6%82%E0%A6%B9&action=edit&redlink=1', 'text': 'কৃষ্ণ সিংহ'}, {'href': 'https://bpy.wikipedia.org/w/index.php?title=বিষ্ণুপ্রিয়া_মণিপুরী&oldid=894130', 'text': 'https://bpy.wikipedia.org/w/index.php?title=বিষ্ণুপ্রিয়া_মণিপুরী&oldid=894130'}, {'href': '/wiki/%E0%A6%AC%E0%A6%BF%E0%A6%B6%E0%A7%87%E0%A6%B7:%E0%A6%AC%E0%A6%BF%E0%A6%B7%E0%A6%AF%E0%A6%BC%E0%A6%B6%E0%A7%8D%E0%A6%B0%E0%A7%87%E0%A6%A3%E0%A7%80', 'text': 'থাকহানি'}, {'href': '/w/index.php?title=%E0%A6%A5%E0%A6%BE%E0%A6%95:%E0%A6%87%E0%A6%A8%E0%A7%8D%E0%A6%A6%E0%A7%8B-%E0%A6%86%E0%A6%B0%E0%A7%8D%E0%A6%AF_%E0%A6%A0%E0%A6%BE%E0%A6%B0&action=edit&redlink=1', 'text': 'ইন্দো-আর্য ঠার'}, {'href': '/wiki/%E0%A6%A5%E0%A6%BE%E0%A6%95:%E0%A6%A0%E0%A6%BE%E0%A6%B0', 'text': 'ঠার'}, {'href': '/wiki/%E0%A6%A5%E0%A6%BE%E0%A6%95:%E0%A6%AC%E0%A6%BF%E0%A6%B7%E0%A7%8D%E0%A6%A3%E0%A7%81%E0%A6%AA%E0%A7%8D%E0%A6%B0%E0%A6%BF%E0%A6%AF%E0%A6%BC%E0%A6%BE_%E0%A6%AE%E0%A6%A3%E0%A6%BF%E0%A6%AA%E0%A7%81%E0%A6%B0%E0%A7%80', 'text': 'বিষ্ণুপ্রিয়া মণিপুরী'}, {'href': 'https://creativecommons.org/licenses/by-sa/4.0/deed.bpy', 'text': 'ক্রিয়েটিভ কমন্স অ্যাট্রিবিউশন/শেয়ার-আলাইক লাইসেন্সর'}, {'href': 'https://foundation.wikimedia.org/wiki/Special:MyLanguage/Policy:Terms_of_Use?uselang=bpy', 'text': 'আতানির শর্ত'}, {'href': 'https://foundation.wikimedia.org/wiki/Special:MyLanguage/Policy:Privacy_policy', 'text': 'লুকরানির নীতিহান'}, {'href': '/wiki/%E0%A6%89%E0%A6%87%E0%A6%95%E0%A6%BF%E0%A6%AA%E0%A6%BF%E0%A6%A1%E0%A6%BF%E0%A6%AF%E0%A6%BC%E0%A6%BE:%E0%A6%AC%E0%A6%BE%E0%A6%B0%E0%A7%87', 'text': 'উইকিপিডিয়ার বারে'}, {'href': '/wiki/%E0%A6%89%E0%A6%87%E0%A6%95%E0%A6%BF%E0%A6%AA%E0%A6%BF%E0%A6%A1%E0%A6%BF%E0%A6%AF%E0%A6%BC%E0%A6%BE:%E0%A6%87%E0%A6%9C%E0%A7%8D%E0%A6%9C%E0%A7%81_%E0%A6%A6%E0%A6%BE%E0%A6%AC%E0%A6%BF_%E0%A6%AC%E0%A7%87%E0%A6%B2%E0%A6%BE%E0%A6%A8%E0%A6%BF', 'text': 'দাবি বেলানি'}, {'href': 'https://foundation.wikimedia.org/wiki/Special:MyLanguage/Policy:Universal_Code_of_Conduct', 'text': 'আচরণবিধি'}, {'href': 'https://developer.wikimedia.org', 'text': 'উন্নয়নকরেকুরা'}, {'href': 'https://stats.wikimedia.org/#/bpy.wikipedia.org', 'text': 'হিসাবহানি'}, {'href': 'https://foundation.wikimedia.org/wiki/Special:MyLanguage/Policy:Cookie_statement', 'text': 'কুকির বিবৃতিহান'}, {'href': '//bpy.m.wikipedia.org/w/index.php?title=%E0%A6%AC%E0%A6%BF%E0%A6%B7%E0%A7%8D%E0%A6%A3%E0%A7%81%E0%A6%AA%E0%A7%8D%E0%A6%B0%E0%A6%BF%E0%A6%AF%E0%A6%BC%E0%A6%BE_%E0%A6%AE%E0%A6%A3%E0%A6%BF%E0%A6%AA%E0%A7%81%E0%A6%B0%E0%A7%80&mobileaction=toggle_view_mobile', 'text': 'মোবাইল সংস্করণহান'}, {'href': 'https://wikimediafoundation.org/', 'text': ''}, {'href': 'https://www.mediawiki.org', 'text': ''}]\n"
          ]
        }
      ]
    },
    {
      "cell_type": "code",
      "source": [],
      "metadata": {
        "id": "mMuSgEjYqQf8"
      },
      "execution_count": null,
      "outputs": []
    }
  ]
}